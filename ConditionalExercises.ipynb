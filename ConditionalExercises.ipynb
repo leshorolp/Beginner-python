{
  "metadata": {
    "kernelspec": {
      "name": "python",
      "display_name": "Python (Pyodide)",
      "language": "python"
    },
    "language_info": {
      "codemirror_mode": {
        "name": "python",
        "version": 3
      },
      "file_extension": ".py",
      "mimetype": "text/x-python",
      "name": "python",
      "nbconvert_exporter": "python",
      "pygments_lexer": "ipython3",
      "version": "3.8"
    }
  },
  "nbformat_minor": 5,
  "nbformat": 4,
  "cells": [
    {
      "id": "96cb82a0-8956-4b58-bf2a-7f5c7d6fc7f7",
      "cell_type": "code",
      "source": "# Exercise 1: Basic Conditionals\na = 10\nb = 5\nif a > b:\n    result = a + b\nelse:\n    result = a - b\nprint(f\"Exercise 1: {result}\")",
      "metadata": {
        "trusted": true
      },
      "outputs": [],
      "execution_count": null
    },
    {
      "id": "3e620b5a-92e9-4a97-9581-c6332d477981",
      "cell_type": "code",
      "source": "# Exercise 2: Multiple Conditions\nx = 15\ny = 20\nz = 25\nif x > y and x > z:\n    largest = x\nelif y > x and y > z:\n    largest = y\nelse:\n    largest = z\nprint(f\"Exercise 2: {largest}\")",
      "metadata": {
        "trusted": true
      },
      "outputs": [],
      "execution_count": null
    },
    {
      "id": "07156940-379b-4fb0-a060-732a21c999f4",
      "cell_type": "code",
      "source": "# Exercise 3: Nested Conditionals\nnum = 7\nif num > 0:\n    if num % 2 == 0:\n        classification = \"Positive Even\"\n    else:\n        classification = \"Positive Odd\"\nelse:\n    classification = \"Non-positive\"\nprint(f\"Exercise 3: {classification}\")",
      "metadata": {
        "trusted": true
      },
      "outputs": [],
      "execution_count": null
    },
    {
      "id": "1bed225b-ace7-4b31-b2f6-aa72cbe572be",
      "cell_type": "code",
      "source": "# Exercise 4: Complex Conditions\np = 12\nq = 8\nr = 10\nif p > q:\n    if p > r:\n        p -= 2\n    else:\n        r += 3\nelif q > r:\n    q *= 2\nelse:\n    r /= 2\nresult = p + q + r\nprint(f\"Exercise 4: {result}\")",
      "metadata": {
        "trusted": true
      },
      "outputs": [],
      "execution_count": null
    },
    {
      "id": "1a8e815c-560f-4708-bdb2-a3e6fd448458",
      "cell_type": "code",
      "source": "# Exercise 5: String Conditions\nname = \"Alice\"\nage = 25\nif name == \"Alice\" and age > 20:\n    status = \"Welcome Alice\"\nelif name != \"Alice\" and age > 20:\n    status = \"Welcome stranger\"\nelse:\n    status = \"Access denied\"\nprint(f\"Exercise 5: {status}\")",
      "metadata": {
        "trusted": true
      },
      "outputs": [],
      "execution_count": null
    },
    {
      "id": "80388c5b-72b4-4f66-b159-f81339d769a7",
      "cell_type": "code",
      "source": "# Exercise 6: Multiple Elif\nscore = 85\nif score >= 90:\n    grade = \"A\"\nelif score >= 80:\n    grade = \"B\"\nelif score >= 70:\n    grade = \"C\"\nelif score >= 60:\n    grade = \"D\"\nelse:\n    grade = \"F\"\nprint(f\"Exercise 6: {grade}\")",
      "metadata": {
        "trusted": true
      },
      "outputs": [],
      "execution_count": null
    },
    {
      "id": "79037576-d5a3-44dc-b080-dc75ffd1438f",
      "cell_type": "code",
      "source": "# Exercise 7: Boolean Logic\nm = 5\nn = 10\no = 15\nif not (m > n) and (o > n or m < o):\n    outcome = \"Condition met\"\nelse:\n    outcome = \"Condition not met\"\nprint(f\"Exercise 7: {outcome}\")",
      "metadata": {
        "trusted": true
      },
      "outputs": [],
      "execution_count": null
    },
    {
      "id": "b902d663-5e3a-466f-91b8-ca050abf39a3",
      "cell_type": "code",
      "source": "# Exercise 8: Chained Comparisons\na1 = 7\nb1 = 12\nc1 = 9\nif 5 <= a1 <= 10 and 10 <= b1 <= 15:\n    c1 += 5\nelif a1 < 5 or b1 > 15:\n    c1 -= 3\nelse:\n    c1 *= 2\nprint(f\"Exercise 8: {c1}\")",
      "metadata": {
        "trusted": true
      },
      "outputs": [],
      "execution_count": null
    },
    {
      "id": "eb463739-b2b1-433f-98b8-23feeec50918",
      "cell_type": "code",
      "source": "# Exercise 9: Complex Variable Updates\nx = 20\ny = 15\nz = 25\nif x > y:\n    if y > z:\n        z += 10\n    else:\n        y += 5\nelif x < z:\n    if z > 30:\n        x -= 5\n    else:\n        z -= 5\nelse:\n    x *= 2\nresult = x + y + z\nprint(f\"Exercise 9: {result}\")",
      "metadata": {
        "trusted": true
      },
      "outputs": [],
      "execution_count": null
    },
    {
      "id": "21ef5c18-0f51-4d34-9cef-6448f69ab933",
      "cell_type": "code",
      "source": "# Exercise 10: Multiple Conditions with Modifiers\na = 18\nb = 22\nc = 30\nif a % 2 == 0:\n    a //= 2\n    if b > 20:\n        b -= 5\n        if c < 25:\n            c += 10\n        else:\n            c -= 8\n    else:\n        b += 7\nelse:\n    a *= 2\nresult = a + b + c\nprint(f\"Exercise 10: {result}\")",
      "metadata": {
        "trusted": true
      },
      "outputs": [],
      "execution_count": null
    },
    {
      "id": "4c1f47ee-8055-4c32-975e-1cc4622253b4",
      "cell_type": "code",
      "source": "# Exercise 11: String Manipulation with Conditionals\ntext = \"Python\"\nlength = len(text)\nif length > 5:\n    modified = text.upper()\nelif length < 5:\n    modified = text.lower()\nelse:\n    modified = text[::-1]  # Reverse the string\nprint(f\"Exercise 11: {modified}\")",
      "metadata": {
        "trusted": true
      },
      "outputs": [],
      "execution_count": null
    },
    {
      "id": "801c8ee5-2675-4d70-ae85-da01cdb37d4e",
      "cell_type": "code",
      "source": "# Exercise 12: Complex Nested Conditions\nx = 25\ny = 15\nz = 10\nif x > 20:\n    if y < 20:\n        z += 5\n        if z > 15:\n            x -= 5\n        else:\n            y += 5\n    else:\n        y *= 2\nelse:\n    if x < 15:\n        z -= 3\n    else:\n        x += 10\nresult = (x, y, z)\nprint(f\"Exercise 12: {result}\")",
      "metadata": {
        "trusted": true
      },
      "outputs": [],
      "execution_count": null
    },
    {
      "id": "49fdaf36-3d4b-4ffc-8c4c-c86df7746ecf",
      "cell_type": "code",
      "source": "# Exercise 13: Multiple Variable Conditions\na = 8\nb = 12\nc = 6\nd = 10\nif a > b and a > c:\n    d += a\nelif b > a and b > c:\n    d += b\nelse:\n    d += c\nif d > 20:\n    d //= 2\nelse:\n    d *= 2\nprint(f\"Exercise 13: {d}\")",
      "metadata": {
        "trusted": true
      },
      "outputs": [],
      "execution_count": null
    },
    {
      "id": "1eb3f492-1d2d-456b-a453-fe5896b4a415",
      "cell_type": "code",
      "source": "# Exercise 14: Advanced Logic Puzzle\np = 30\nq = 25\nr = 20\nif not (p < q or r > q):\n    p -= 10\n    q += 5\nelif p > q and q > r:\n    if p % 2 == 0:\n        r = p // 2\n    else:\n        r = q // 2\nelse:\n    if p + q > r * 2:\n        p, q, r = r, q, p  # Swap p and r\n    else:\n        p, q = q, p  # Swap p and q\nresult = p + q - r\nprint(f\"Exercise 14: {result}\")",
      "metadata": {
        "trusted": true
      },
      "outputs": [],
      "execution_count": null
    },
    {
      "id": "38406027-b0ed-449c-a790-9eabfd65c2c2",
      "cell_type": "code",
      "source": "# Exercise 15: Complex Real-world Scenario\n# Temperature and humidity analysis\ntemperature = 28\nhumidity = 75\nis_raining = False\naction = \"\"\n\nif temperature > 30:\n    if humidity > 80:\n        action = \"Stay indoors with AC\"\n    else:\n        action = \"Go swimming\"\nelif temperature > 20:\n    if humidity > 90:\n        action = \"Use umbrella\"\n        is_raining = True\n    elif humidity > 70:\n        action = \"Light jacket recommended\"\n    else:\n        action = \"Perfect weather for walk\"\nelse:\n    if humidity > 85:\n        action = \"Stay warm indoors\"\n    else:\n        action = \"Wear coat\"\n\nif is_raining:\n    action += \" (Rain expected)\"\n\nprint(f\"Exercise 15: {action}\")",
      "metadata": {
        "trusted": true
      },
      "outputs": [],
      "execution_count": null
    },
    {
      "id": "4085e466-5753-461b-a856-22eec53da5d9",
      "cell_type": "markdown",
      "source": "# Exercise 1: Basic Conditionals\n# a = 10, b = 5\n# Condition: a > b (10 > 5) is True\n# So result = a + b = 10 + 5 = 15\nprint(\"Exercise 1 Answer: 15\")\n\n# Exercise 2: Multiple Conditions\n# x = 15, y = 20, z = 25\n# x > y and x > z: 15 > 20 and 15 > 25 → False\n# y > x and y > z: 20 > 15 and 20 > 25 → True and False → False\n# So else branch executes: largest = z = 25\nprint(\"Exercise 2 Answer: 25\")\n\n# Exercise 3: Nested Conditionals\n# num = 7\n# num > 0 is True\n# num % 2 == 0: 7 % 2 = 1 → False\n# So classification = \"Positive Odd\"\nprint(\"Exercise 3 Answer: Positive Odd\")\n\n# Exercise 4: Complex Conditions\n# p = 12, q = 8, r = 10\n# p > q: 12 > 8 → True\n# p > r: 12 > 10 → True\n# So p -= 2: p = 12 - 2 = 10\n# q and r remain unchanged\n# result = p + q + r = 10 + 8 + 10 = 28\nprint(\"Exercise 4 Answer: 28\")\n\n# Exercise 5: String Conditions\n# name = \"Alice\", age = 25\n# name == \"Alice\" and age > 20: True and True → True\n# So status = \"Welcome Alice\"\nprint(\"Exercise 5 Answer: Welcome Alice\")\n\n# Exercise 6: Multiple Elif\n# score = 85\n# score >= 90: 85 >= 90 → False\n# score >= 80: 85 >= 80 → True\n# So grade = \"B\"\nprint(\"Exercise 6 Answer: B\")\n\n# Exercise 7: Boolean Logic\n# m = 5, n = 10, o = 15\n# not (m > n): not (5 > 10) → not False → True\n# o > n or m < o: 15 > 10 or 5 < 15 → True or True → True\n# True and True → True\n# So outcome = \"Condition met\"\nprint(\"Exercise 7 Answer: Condition met\")\n\n# Exercise 8: Chained Comparisons\n# a1 = 7, b1 = 12, c1 = 9\n# 5 <= a1 <= 10: 5 <= 7 <= 10 → True\n# 10 <= b1 <= 15: 10 <= 12 <= 15 → True\n# True and True → True\n# So c1 += 5: c1 = 9 + 5 = 14\nprint(\"Exercise 8 Answer: 14\")\n\n# Exercise 9: Complex Variable Updates\n# x = 20, y = 15, z = 25\n# x > y: 20 > 15 → True\n# y > z: 15 > 25 → False\n# So else branch executes: y += 5 → y = 15 + 5 = 20\n# x and z remain unchanged\n# result = x + y + z = 20 + 20 + 25 = 65\nprint(\"Exercise 9 Answer: 65\")\n\n# Exercise 10: Multiple Conditions with Modifiers\n# a = 18, b = 22, c = 30\n# a % 2 == 0: 18 % 2 == 0 → True\n# So a //= 2: a = 18 // 2 = 9\n# b > 20: 22 > 20 → True\n# So b -= 5: b = 22 - 5 = 17\n# c < 25: 30 < 25 → False\n# So else branch executes: c -= 8: c = 30 - 8 = 22\n# result = a + b + c = 9 + 17 + 22 = 48\nprint(\"Exercise 10 Answer: 48\")\n\n# Exercise 11: String Manipulation with Conditionals\n# text = \"Python\", length = 6\n# length > 5: 6 > 5 → True\n# So modified = text.upper() = \"PYTHON\"\nprint(\"Exercise 11 Answer: PYTHON\")\n\n# Exercise 12: Complex Nested Conditions\n# x = 25, y = 15, z = 10\n# x > 20: 25 > 20 → True\n# y < 20: 15 < 20 → True\n# So z += 5: z = 10 + 5 = 15\n# z > 15: 15 > 15 → False\n# So else branch executes: y += 5: y = 15 + 5 = 20\n# result = (x, y, z) = (25, 20, 15)\nprint(\"Exercise 12 Answer: (25, 20, 15)\")\n\n# Exercise 13: Multiple Variable Conditions\n# a = 8, b = 12, c = 6, d = 10\n# a > b and a > c: 8 > 12 and 8 > 6 → False and True → False\n# b > a and b > c: 12 > 8 and 12 > 6 → True and True → True\n# So d += b: d = 10 + 12 = 22\n# d > 20: 22 > 20 → True\n# So d //= 2: d = 22 // 2 = 11\nprint(\"Exercise 13 Answer: 11\")\n\n# Exercise 14: Advanced Logic Puzzle\n# p = 30, q = 25, r = 20\n# not (p < q or r > q): not (30 < 25 or 20 > 25) → not (False or False) → not False → True\n# So p -= 10: p = 30 - 10 = 20\n# q += 5: q = 25 + 5 = 30\n# result = p + q - r = 20 + 30 - 20 = 30\nprint(\"Exercise 14 Answer: 30\")\n\n# Exercise 15: Complex Real-world Scenario\n# temperature = 28, humidity = 75, is_raining = False\n# temperature > 30: 28 > 30 → False\n# temperature > 20: 28 > 20 → True\n# humidity > 90: 75 > 90 → False\n# humidity > 70: 75 > 70 → True\n# So action = \"Light jacket recommended\"\n# is_raining remains False\nprint(\"Exercise 15 Answer: Light jacket recommended\")",
      "metadata": {}
    },
    {
      "id": "e194c13b-3559-41f4-b860-11e69f792792",
      "cell_type": "code",
      "source": "",
      "metadata": {
        "trusted": true
      },
      "outputs": [],
      "execution_count": null
    }
  ]
}