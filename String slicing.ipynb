{
 "cells": [
  {
   "cell_type": "code",
   "execution_count": 1,
   "id": "68e95c82-9a2a-4276-8cb8-3375ab25890c",
   "metadata": {},
   "outputs": [
    {
     "name": "stdout",
     "output_type": "stream",
     "text": [
      "money maker\n"
     ]
    }
   ],
   "source": [
    "name = \"money\"\n",
    "surname = \"maker\"\n",
    "print(name + \" \" + surname)"
   ]
  },
  {
   "cell_type": "code",
   "execution_count": 2,
   "id": "a6c5a704-3a78-44ec-a278-96c62446a73e",
   "metadata": {},
   "outputs": [
    {
     "name": "stdout",
     "output_type": "stream",
     "text": [
      "I love money and they call me moneymaker\n"
     ]
    }
   ],
   "source": [
    "print(f'I love {name} and they call me {name}{surname}')"
   ]
  },
  {
   "cell_type": "code",
   "execution_count": 11,
   "id": "afbf0a2b-6c90-466b-b6dc-fb4c8605742f",
   "metadata": {},
   "outputs": [
    {
     "name": "stdout",
     "output_type": "stream",
     "text": [
      "Hello\n",
      "World\n",
      "Hello\n",
      "HloWrd\n",
      "dlroW olleH\n",
      "rld\n",
      "maker\n",
      "om\n"
     ]
    }
   ],
   "source": [
    "#string slicing\n",
    "s = \"Hello World\"\n",
    "\n",
    "# Get a substring from index 0 up to (but not including) index 5\n",
    "print(s[0:5])  # Output: Hello\n",
    "\n",
    "# Get a substring from index 6 to the end of the string\n",
    "print(s[6:])   # Output: World\n",
    "\n",
    "# Get a substring from the beginning up to (but not including) index 5\n",
    "print(s[:5])   # Output: Hello\n",
    "\n",
    "# Get every second character\n",
    "print(s[::2])  # Output: Hlool\n",
    "\n",
    "# Reverse the string\n",
    "print(s[::-1]) # Output: dlroW olleH\n",
    "\n",
    "# Get the last three characters using negative indexing\n",
    "print(s[-3:])  # Output: rld\n",
    "\n",
    "names = \"moneymaker\"\n",
    "print(names[5:])\n",
    "i = names[1]\n",
    "p = names[5]\n",
    "print(i + p)"
   ]
  },
  {
   "cell_type": "code",
   "execution_count": 14,
   "id": "f51c1e09-a456-4529-9bf5-8e74bc9f0d19",
   "metadata": {},
   "outputs": [
    {
     "name": "stdout",
     "output_type": "stream",
     "text": [
      "88\n",
      "979\n",
      "88.2\n"
     ]
    }
   ],
   "source": [
    "number = '27946'\n",
    "x = number[2]\n",
    "y = number[1:3]\n",
    "print(int(x) + int(y))\n",
    "print(str(x) + str(y))\n",
    "z = number[2] + \".\" + number[0]\n",
    "print(float(z) + float(y))"
   ]
  },
  {
   "cell_type": "code",
   "execution_count": null,
   "id": "91e3fbc0-f1fd-4b18-8647-7f73aaabdf8e",
   "metadata": {},
   "outputs": [],
   "source": []
  }
 ],
 "metadata": {
  "kernelspec": {
   "display_name": "Python 3 (ipykernel)",
   "language": "python",
   "name": "python3"
  },
  "language_info": {
   "codemirror_mode": {
    "name": "ipython",
    "version": 3
   },
   "file_extension": ".py",
   "mimetype": "text/x-python",
   "name": "python",
   "nbconvert_exporter": "python",
   "pygments_lexer": "ipython3",
   "version": "3.12.4"
  }
 },
 "nbformat": 4,
 "nbformat_minor": 5
}
