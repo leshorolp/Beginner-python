{
  "metadata": {
    "kernelspec": {
      "name": "python",
      "display_name": "Python (Pyodide)",
      "language": "python"
    },
    "language_info": {
      "codemirror_mode": {
        "name": "python",
        "version": 3
      },
      "file_extension": ".py",
      "mimetype": "text/x-python",
      "name": "python",
      "nbconvert_exporter": "python",
      "pygments_lexer": "ipython3",
      "version": "3.8"
    }
  },
  "nbformat_minor": 5,
  "nbformat": 4,
  "cells": [
    {
      "id": "0fd14240-1d21-4682-8b91-0d5a2bbd325d",
      "cell_type": "code",
      "source": "# Exercise 1: Medium\n# Write a function that returns the factorial of a number using recursion.\ndef factorial(n):\n    if n == 0:\n        return 1\n    else:\n        return n * factorial(n-1)\n\nprint(factorial(5)) ",
      "metadata": {
        "trusted": true
      },
      "outputs": [],
      "execution_count": null
    },
    {
      "id": "6322bf7b-6780-4c9b-996e-c0a5b8463d76",
      "cell_type": "code",
      "source": "# Exercise 2: Medium\n# Write a function to check if a string is a palindrome.\ndef is_palindrome(s):\n    s = s.lower().replace(\" \", \"\")\n    return s == s[::-1]\n\nprint(is_palindrome(\"A man a plan a canal Panama\"))  ",
      "metadata": {
        "trusted": true
      },
      "outputs": [],
      "execution_count": null
    },
    {
      "id": "6069c7b4-78c6-41d6-b50c-55ac61deedc4",
      "cell_type": "code",
      "source": "# Exercise 3: Medium\n# Write a function that returns the Fibonacci sequence up to n terms.\ndef fibonacci(n):\n    a, b = 0, 1\n    for _ in range(n):\n        yield a\n        a, b = b, a + b\n\nprint(list(fibonacci(10)))",
      "metadata": {
        "trusted": true
      },
      "outputs": [],
      "execution_count": null
    },
    {
      "id": "5457484a-13fb-41a7-ad89-03d33c2dd120",
      "cell_type": "code",
      "source": "# Exercise 4: Medium\n# Write a function to find the greatest common divisor (GCD) of two numbers.\ndef gcd(a, b):\n    while b:\n        a, b = b, a % b\n    return a\n\nprint(gcd(48, 18))  ",
      "metadata": {
        "trusted": true
      },
      "outputs": [],
      "execution_count": null
    },
    {
      "id": "6dbd6860-fdb8-4497-95fa-6b43f0c4fc4f",
      "cell_type": "code",
      "source": "# Exercise 5: Medium\n# Write a function that flattens a nested list.\ndef flatten(lst):\n    result = []\n    for item in lst:\n        if isinstance(item, list):\n            result.extend(flatten(item))\n        else:\n            result.append(item)\n    return result\n\nprint(flatten([1, [2, [3, 4], 5]])) ",
      "metadata": {
        "trusted": true
      },
      "outputs": [],
      "execution_count": null
    },
    {
      "id": "ee37fffe-9312-4c2d-8b08-27e22010903f",
      "cell_type": "code",
      "source": "# Exercise 6: Hard\n# Write a function that returns the prime factors of a number.\ndef prime_factors(n):\n    factors = []\n    d = 2\n    while d * d <= n:\n        while n % d == 0:\n            factors.append(d)\n            n //= d\n        d += 1\n    if n > 1:\n        factors.append(n)\n    return factors\n\nprint(prime_factors(56))  ",
      "metadata": {
        "trusted": true
      },
      "outputs": [],
      "execution_count": null
    },
    {
      "id": "cb4d5040-bb95-4d7f-a124-0fee7f09e3ec",
      "cell_type": "code",
      "source": "# Exercise 7: Hard\n# Implement a function to perform binary search on a sorted list.\ndef binary_search(lst, target):\n    low, high = 0, len(lst) - 1\n    while low <= high:\n        mid = (low + high) // 2\n        if lst[mid] == target:\n            return mid\n        elif lst[mid] < target:\n            low = mid + 1\n        else:\n            high = mid - 1\n    return -1\n\nprint(binary_search([1, 2, 3, 4, 5], 3)) ",
      "metadata": {
        "trusted": true
      },
      "outputs": [],
      "execution_count": null
    },
    {
      "id": "30520134-9a2a-4b34-8ead-16f3cb5fda7e",
      "cell_type": "code",
      "source": "# Exercise 8: Hard\n# Write a function that sorts a list using the quicksort algorithm.\ndef quicksort(lst):\n    if len(lst) <= 1:\n        return lst\n    pivot = lst[len(lst) // 2]\n    left = [x for x in lst if x < pivot]\n    middle = [x for x in lst if x == pivot]\n    right = [x for x in lst if x > pivot]\n    return quicksort(left) + middle + quicksort(right)\n\nprint(quicksort([3, 6, 8, 10, 1, 2, 1]))  ",
      "metadata": {
        "trusted": true
      },
      "outputs": [],
      "execution_count": null
    },
    {
      "id": "de9f5b3a-a315-43fd-86d5-f69869ff755b",
      "cell_type": "code",
      "source": "# Exercise 9: Hard\n# Write a function to check if a string has all unique characters.\ndef all_unique(s):\n    return len(s) == len(set(s))\n\nprint(all_unique(\"hello\")) \nprint(all_unique(\"world\"))  ",
      "metadata": {
        "trusted": true
      },
      "outputs": [],
      "execution_count": null
    },
    {
      "id": "cef4f7b2-fe63-4e7d-bd0a-9658b82ce362",
      "cell_type": "code",
      "source": "# Exercise 10: Very Hard\n# Implement a function that generates all permutations of a string.\ndef permutations(s):\n    if len(s) <= 1:\n        return [s]\n    perms = []\n    for i, char in enumerate(s):\n        for perm in permutations(s[:i] + s[i+1:]):\n            perms.append(char + perm)\n    return perms\n\nprint(permutations(\"abc\")) ",
      "metadata": {
        "trusted": true
      },
      "outputs": [],
      "execution_count": null
    },
    {
      "id": "94d0ebcf-4660-49db-ab0d-369f7a123cf9",
      "cell_type": "code",
      "source": "# Exercise 11: Very Hard\n# Write a function that solves the Tower of Hanoi problem.\ndef tower_of_hanoi(n, source, target, auxiliary):\n    if n == 1:\n        print(f\"Move disk 1 from {source} to {target}\")\n        return\n    tower_of_hanoi(n-1, source, auxiliary, target)\n    print(f\"Move disk {n} from {source} to {target}\")\n    tower_of_hanoi(n-1, auxiliary, target, source)\n\ntower_of_hanoi(3, 'A', 'C', 'B')",
      "metadata": {
        "trusted": true
      },
      "outputs": [],
      "execution_count": null
    },
    {
      "id": "d5ecdab0-84cd-4ccc-ae36-65ceecc18d54",
      "cell_type": "code",
      "source": "# Exercise 12: Very Hard\n# Write a function that returns the longest increasing subsequence in a list.\ndef longest_increasing_subsequence(lst):\n    if not lst:\n        return []\n    n = len(lst)\n    dp = [1] * n\n    prev = [-1] * n\n    for i in range(1, n):\n        for j in range(i):\n            if lst[j] < lst[i] and dp[i] < dp[j] + 1:\n                dp[i] = dp[j] + 1\n                prev[i] = j\n    max_index = dp.index(max(dp))\n    sequence = []\n    while max_index != -1:\n        sequence.append(lst[max_index])\n        max_index = prev[max_index]\n    return sequence[::-1]\n\nprint(longest_increasing_subsequence([10, 22, 9, 33, 21, 50, 41, 60])) ",
      "metadata": {
        "trusted": true
      },
      "outputs": [],
      "execution_count": null
    },
    {
      "id": "4cf77cb0-e031-4a5c-8a00-eced23b63c10",
      "cell_type": "code",
      "source": "# Exercise 13: Extremely Hard\n# Implement a function that solves the N-Queens problem.\ndef solve_n_queens(n):\n    def backtrack(row, diagonals, anti_diagonals, cols, state):\n        if row == n:\n            solutions.append([\"\".join(row) for row in state])\n            return\n        for col in range(n):\n            diagonal = row - col\n            anti_diagonal = row + col\n            if col in cols or diagonal in diagonals or anti_diagonal in anti_diagonals:\n                continue\n            cols.add(col)\n            diagonals.add(diagonal)\n            anti_diagonals.add(anti_diagonal)\n            state[row][col] = 'Q'\n            backtrack(row+1, diagonals, anti_diagonals, cols, state)\n            state[row][col] = '.'\n            cols.remove(col)\n            diagonals.remove(diagonal)\n            anti_diagonals.remove(anti_diagonal)\n    solutions = []\n    state = [['.' for _ in range(n)] for _ in range(n)]\n    backtrack(0, set(), set(), set(), state)\n    return solutions\n\nsolutions = solve_n_queens(4)\nfor solution in solutions:\n    for row in solution:\n        print(row)\n    print()",
      "metadata": {
        "trusted": true
      },
      "outputs": [],
      "execution_count": null
    },
    {
      "id": "c7d6fdca-6268-41f0-847c-de34d7920cb4",
      "cell_type": "code",
      "source": "# Exercise 14: Extremely Hard\n# Write a function that implements a LRU (Least Recently Used) cache.\nfrom collections import OrderedDict\n\nclass LRUCache:\n    def __init__(self, capacity):\n        self.cache = OrderedDict()\n        self.capacity = capacity\n\n    def get(self, key):\n        if key not in self.cache:\n            return -1\n        self.cache.move_to_end(key)\n        return self.cache[key]\n\n    def put(self, key, value):\n        if key in self.cache:\n            self.cache.move_to_end(key)\n        self.cache[key] = value\n        if len(self.cache) > self.capacity:\n            self.cache.popitem(last=False)\n\ncache = LRUCache(2)\ncache.put(1, 1)\ncache.put(2, 2)\nprint(cache.get(1))  \ncache.put(3, 3)\nprint(cache.get(2))",
      "metadata": {
        "trusted": true
      },
      "outputs": [],
      "execution_count": null
    },
    {
      "id": "47e9fc00-0f34-4858-9fb8-727b637dfe2f",
      "cell_type": "code",
      "source": "# Exercise 15: Extremely Hard\n# Write a function that solves the Sudoku puzzle.\ndef solve_sudoku(board):\n    def is_valid(row, col, num):\n        for i in range(9):\n            if board[row][i] == num or board[i][col] == num or board[3*(row//3)+i//3][3*(col//3)+i%3] == num:\n                return False\n        return True\n\n    def solve():\n        for i in range(9):\n            for j in range(9):\n                if board[i][j] == '.':\n                    for num in '123456789':\n                        if is_valid(i, j, num):\n                            board[i][j] = num\n                            if solve():\n                                return True\n                            board[i][j] = '.'\n                    return False\n        return True\n    solve()\n    return board\n\nboard = [\n    [\"5\",\"3\",\".\",\".\",\"7\",\".\",\".\",\".\",\".\"],\n    [\"6\",\".\",\".\",\"1\",\"9\",\"5\",\".\",\".\",\".\"],\n    [\".\",\"9\",\"8\",\".\",\".\",\".\",\".\",\"6\",\".\"],\n    [\"8\",\".\",\".\",\".\",\"6\",\".\",\".\",\".\",\"3\"],\n    [\"4\",\".\",\".\",\"8\",\".\",\"3\",\".\",\".\",\"1\"],\n    [\"7\",\".\",\".\",\".\",\"2\",\".\",\".\",\".\",\"6\"],\n    [\".\",\"6\",\".\",\".\",\".\",\".\",\"2\",\"8\",\".\"],\n    [\".\",\".\",\".\",\"4\",\"1\",\"9\",\".\",\".\",\"5\"],\n    [\".\",\".\",\".\",\".\",\"8\",\".\",\".\",\"7\",\"9\"]\n]\nsolved = solve_sudoku(board)\nfor row in solved:\n    print(row)",
      "metadata": {
        "trusted": true
      },
      "outputs": [],
      "execution_count": null
    }
  ]
}