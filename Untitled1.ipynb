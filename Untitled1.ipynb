{
 "cells": [
  {
   "cell_type": "code",
   "execution_count": 1,
   "id": "3747a96f-51bb-4af4-b5ee-abb4feca9853",
   "metadata": {
    "scrolled": true
   },
   "outputs": [
    {
     "name": "stdout",
     "output_type": "stream",
     "text": [
      "Lehlohonolo\n",
      "Lehlohonolo\n",
      "Lehlohonolo\n",
      "Lehlohonolo\n",
      "Lehlohonolo\n",
      "Lehlohonolo\n",
      "Lehlohonolo\n",
      "Lehlohonolo\n",
      "Lehlohonolo\n",
      "Lehlohonolo\n",
      "Lehlohonolo\n",
      "Lehlohonolo\n",
      "Lehlohonolo\n",
      "Lehlohonolo\n",
      "Lehlohonolo\n",
      "Lehlohonolo\n",
      "Lehlohonolo\n",
      "Lehlohonolo\n",
      "Lehlohonolo\n",
      "Lehlohonolo\n",
      "Lehlohonolo\n",
      "Lehlohonolo\n",
      "Lehlohonolo\n",
      "Lehlohonolo\n",
      "Lehlohonolo\n",
      "Lehlohonolo\n",
      "Lehlohonolo\n",
      "Lehlohonolo\n",
      "Lehlohonolo\n",
      "Lehlohonolo\n",
      "Lehlohonolo\n",
      "Lehlohonolo\n",
      "Lehlohonolo\n",
      "Lehlohonolo\n",
      "Lehlohonolo\n",
      "Lehlohonolo\n",
      "Lehlohonolo\n",
      "Lehlohonolo\n",
      "Lehlohonolo\n",
      "Lehlohonolo\n",
      "Lehlohonolo\n",
      "Lehlohonolo\n",
      "Lehlohonolo\n",
      "Lehlohonolo\n",
      "Lehlohonolo\n",
      "Lehlohonolo\n",
      "Lehlohonolo\n",
      "Lehlohonolo\n",
      "Lehlohonolo\n",
      "Lehlohonolo\n",
      "Lehlohonolo\n",
      "Lehlohonolo\n",
      "Lehlohonolo\n",
      "Lehlohonolo\n",
      "Lehlohonolo\n",
      "Lehlohonolo\n",
      "Lehlohonolo\n",
      "Lehlohonolo\n",
      "Lehlohonolo\n",
      "Lehlohonolo\n",
      "Lehlohonolo\n",
      "Lehlohonolo\n",
      "Lehlohonolo\n",
      "Lehlohonolo\n",
      "Lehlohonolo\n",
      "Lehlohonolo\n",
      "Lehlohonolo\n",
      "Lehlohonolo\n",
      "Lehlohonolo\n",
      "Lehlohonolo\n",
      "Lehlohonolo\n",
      "Lehlohonolo\n",
      "Lehlohonolo\n",
      "Lehlohonolo\n",
      "Lehlohonolo\n",
      "Lehlohonolo\n",
      "Lehlohonolo\n",
      "Lehlohonolo\n",
      "Lehlohonolo\n",
      "Lehlohonolo\n",
      "Lehlohonolo\n",
      "Lehlohonolo\n",
      "Lehlohonolo\n",
      "Lehlohonolo\n",
      "Lehlohonolo\n",
      "Lehlohonolo\n",
      "Lehlohonolo\n",
      "Lehlohonolo\n",
      "Lehlohonolo\n",
      "Lehlohonolo\n",
      "Lehlohonolo\n",
      "Lehlohonolo\n",
      "Lehlohonolo\n",
      "Lehlohonolo\n",
      "Lehlohonolo\n",
      "Lehlohonolo\n",
      "Lehlohonolo\n",
      "Lehlohonolo\n",
      "Lehlohonolo\n",
      "Lehlohonolo\n"
     ]
    }
   ],
   "source": [
    "name = 'Lehlohonolo'\n",
    "for _ in range(100):\n",
    "    print(name)"
   ]
  },
  {
   "cell_type": "code",
   "execution_count": 2,
   "id": "c6ed7985-dabb-4dac-9ac3-1f7d741d3dc4",
   "metadata": {},
   "outputs": [
    {
     "name": "stdout",
     "output_type": "stream",
     "text": [
      "4\n",
      "5\n"
     ]
    }
   ],
   "source": [
    "for variable  in range(4,8+-2):\n",
    "    print(variable)"
   ]
  },
  {
   "cell_type": "code",
   "execution_count": 3,
   "id": "a4bb3071-ddf9-42cd-beb8-bef0eb0349fa",
   "metadata": {},
   "outputs": [
    {
     "name": "stdout",
     "output_type": "stream",
     "text": [
      "h 4\n",
      "h4\n",
      "h 5\n",
      "h5\n",
      "h 6\n",
      "h6\n",
      "h 7\n",
      "h7\n"
     ]
    }
   ],
   "source": [
    "for variable  in range(4,8):\n",
    "    print(\"h\" , variable)\n",
    "    print(\"h\" + str(variable))"
   ]
  },
  {
   "cell_type": "code",
   "execution_count": 4,
   "id": "ff13affc-b088-4fba-b120-d266433d38e0",
   "metadata": {},
   "outputs": [
    {
     "name": "stdout",
     "output_type": "stream",
     "text": [
      "h 4\n",
      "h 6\n"
     ]
    }
   ],
   "source": [
    "for variable  in range(4,8,2):\n",
    "    print(\"h\" , variable)"
   ]
  },
  {
   "cell_type": "code",
   "execution_count": 5,
   "id": "c71c1713-012a-4c1a-96d4-759e731cc7c7",
   "metadata": {},
   "outputs": [
    {
     "name": "stdout",
     "output_type": "stream",
     "text": [
      "6\n",
      "5\n",
      "4\n",
      "3\n",
      "2\n"
     ]
    }
   ],
   "source": [
    "for i in range(6,1,-1):\n",
    "    print(i)"
   ]
  },
  {
   "cell_type": "code",
   "execution_count": 6,
   "id": "d1e94571-2aa8-47a5-9f9d-241dc4e3ef9a",
   "metadata": {},
   "outputs": [
    {
     "name": "stdout",
     "output_type": "stream",
     "text": [
      "[4, 6, 8, 9]\n",
      "[4, 6, 8, 9]\n",
      "[4, 6, 8, 9]\n",
      "[4, 6, 8, 9]\n"
     ]
    }
   ],
   "source": [
    "nums = [4,6,8,9]\n",
    "for num in nums:\n",
    "    print(nums)"
   ]
  },
  {
   "cell_type": "code",
   "execution_count": 12,
   "id": "97660951-4947-42f8-acaf-8d1023b3bd14",
   "metadata": {},
   "outputs": [
    {
     "name": "stdout",
     "output_type": "stream",
     "text": [
      "Dear Jack, with student number 2224854747, we regret to inform you that you have failed.\n",
      "Dear Pule, with student number 747364646, we regret to inform you that you have failed.\n",
      "Dear Naledi, with student number 73747437, we regret to inform you that you have failed.\n",
      "Dear Jacobus, with student number 43744447, we regret to inform you that you have failed.\n"
     ]
    }
   ],
   "source": [
    "failing_learners = ['Jack','Pule','Naledi','Jacobus']\n",
    "student_num = [2224854747,747364646,73747437,43744447]\n",
    "nums = [4,6,8,9]\n",
    "i = 0\n",
    "for student in failing_learners:\n",
    "    print(f'Dear {student}, with student number {student_num[i]}, we regret to inform you that you have failed.')\n",
    "    i+=1"
   ]
  },
  {
   "cell_type": "code",
   "execution_count": 13,
   "id": "ac11ceb8-4b59-4dfe-a5e1-43162395b359",
   "metadata": {},
   "outputs": [
    {
     "name": "stdout",
     "output_type": "stream",
     "text": [
      "0\n",
      "2\n",
      "4\n",
      "6\n",
      "8\n",
      "10\n"
     ]
    }
   ],
   "source": [
    "for i in range(0,11,2):\n",
    "    print(i)"
   ]
  },
  {
   "cell_type": "code",
   "execution_count": 30,
   "id": "1cf023f3-c066-450d-bace-835990c21fae",
   "metadata": {},
   "outputs": [
    {
     "name": "stdout",
     "output_type": "stream",
     "text": [
      "59\n",
      "57\n",
      "55\n",
      "53\n",
      "51\n",
      "49\n",
      "47\n",
      "45\n",
      "43\n",
      "41\n"
     ]
    }
   ],
   "source": [
    "for k in range(59,39,-2):\n",
    "        print(k)"
   ]
  },
  {
   "cell_type": "code",
   "execution_count": 36,
   "id": "73ecd49e-14aa-4aa6-babb-d7b0abe326a3",
   "metadata": {},
   "outputs": [
    {
     "name": "stdout",
     "output_type": "stream",
     "text": [
      "cat\n",
      "dog\n",
      "elephant\n",
      "hippo\n",
      "snake\n"
     ]
    }
   ],
   "source": [
    "animals = ['cat','dog','elephant','hippo','snake']\n",
    "for i in animals:\n",
    "    print(i)"
   ]
  },
  {
   "cell_type": "code",
   "execution_count": null,
   "id": "a4e791bb-29ed-4b47-b49b-ec36c1d7b818",
   "metadata": {},
   "outputs": [],
   "source": []
  }
 ],
 "metadata": {
  "kernelspec": {
   "display_name": "Python 3 (ipykernel)",
   "language": "python",
   "name": "python3"
  },
  "language_info": {
   "codemirror_mode": {
    "name": "ipython",
    "version": 3
   },
   "file_extension": ".py",
   "mimetype": "text/x-python",
   "name": "python",
   "nbconvert_exporter": "python",
   "pygments_lexer": "ipython3",
   "version": "3.12.4"
  }
 },
 "nbformat": 4,
 "nbformat_minor": 5
}
