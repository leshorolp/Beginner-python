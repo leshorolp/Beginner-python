{
  "metadata": {
    "kernelspec": {
      "name": "python",
      "display_name": "Python (Pyodide)",
      "language": "python"
    },
    "language_info": {
      "codemirror_mode": {
        "name": "python",
        "version": 3
      },
      "file_extension": ".py",
      "mimetype": "text/x-python",
      "name": "python",
      "nbconvert_exporter": "python",
      "pygments_lexer": "ipython3",
      "version": "3.8"
    }
  },
  "nbformat_minor": 5,
  "nbformat": 4,
  "cells": [
    {
      "id": "405bfae4-06ce-4899-a631-af9d774b2f27",
      "cell_type": "code",
      "source": "x = 5\ny = [1]\nz = 0\n\nwhile x > y[0]:  #True\n    for r in range(9): #0,1\n        z += 1    #y=1+1=2; y=2+1=3; y=3+1=4; y=4+1=5; 5+1=6; 6+1=7; 7+1=8; 8+1=9\n        y.append(z)\n        print(y)  #y=2,3,4,5,6,7,8,9\n    x += 1   #x=5+1=6; 6+1=7; 7+1=8; 8+1=9\n    break\nprint(y) #y=2,3,4,5,6,7,8,9,9",
      "metadata": {
        "trusted": true
      },
      "outputs": [
        {
          "name": "stdout",
          "output_type": "stream",
          "text": "[1, 1]\n[1, 1, 2]\n[1, 1, 2, 3]\n[1, 1, 2, 3, 4]\n[1, 1, 2, 3, 4, 5]\n[1, 1, 2, 3, 4, 5, 6]\n[1, 1, 2, 3, 4, 5, 6, 7]\n[1, 1, 2, 3, 4, 5, 6, 7, 8]\n[1, 1, 2, 3, 4, 5, 6, 7, 8, 9]\n[1, 1, 2, 3, 4, 5, 6, 7, 8, 9]\n"
        }
      ],
      "execution_count": 1
    },
    {
      "id": "ba3691f9-ddd3-4ac9-beb8-e085f08cf1a7",
      "cell_type": "code",
      "source": "x = 5\ny = 1\n\nwhile x > y:  #True\n    for r in range(2): #0,1\n        y += 1    #y=1+1=2; y=2+1=3; y=3+1=4; y=4+1=5; 5+1=6; 6+1=7; 7+1=8; 8+1=9\n        print(y)  #y=2,3,4,5,6,7,8,9\n    x += 1   #x=5+1=6; 6+1=7; 7+1=8; 8+1=9\nprint(y) #y=2,3,4,5,6,7,8,9,9",
      "metadata": {
        "trusted": true
      },
      "outputs": [
        {
          "name": "stdout",
          "output_type": "stream",
          "text": "2\n3\n4\n5\n6\n7\n8\n9\n9\n"
        }
      ],
      "execution_count": 2
    },
    {
      "id": "9b68349f-c9c0-4706-9cc0-7ce0e5d63ee5",
      "cell_type": "code",
      "source": "x = 5\ny = 1\n\nwhile x > y:  #True\n    for r in range(3): #0,1,2\n        y += r    #y= 1+0=1,1+1=2,2+2=4; 4+0=4,4+1=5,5+2=7\n        print(y)  #y=1,2,4,4,5,7\n    x += 1   #x=5+1=6; 6+1=7\nprint(x + y) #y=14\n#1,2,4,4,5,7,14",
      "metadata": {
        "trusted": true
      },
      "outputs": [
        {
          "name": "stdout",
          "output_type": "stream",
          "text": "1\n2\n4\n4\n5\n7\n14\n"
        }
      ],
      "execution_count": 3
    },
    {
      "id": "9393ce21-bb5c-4dfb-9016-e1a1bf8c8139",
      "cell_type": "code",
      "source": "x = 2\ny = 15\n\nwhile x < y:  #True\n    print(x + y) #17, 34, 68\n    x += x #4, 8, 16\n    if x > 10:\n        break\n    y +=y #30, 60\nprint(x + y) #76\n#17, 34, 68, 76",
      "metadata": {
        "trusted": true
      },
      "outputs": [
        {
          "name": "stdout",
          "output_type": "stream",
          "text": "17\n34\n68\n76\n"
        }
      ],
      "execution_count": 4
    },
    {
      "id": "d118a304-7c8d-44d9-993c-ab54d181c14a",
      "cell_type": "markdown",
      "source": "https://pythongeeks.org/python-projects/",
      "metadata": {}
    },
    {
      "id": "50da931e-2e67-40e8-936e-d7fa8f21b89e",
      "cell_type": "code",
      "source": "x = 2\ny = 10\n\nwhile x < y:  #True\n    print(x + y) #12,24,28,36\n    x += x #4,8,16,32\n    if x > 7:\n        continue\n    y +=y #20 \ny += 5 #25\nprint(x + y) #57\n#12, 24, 28, 36, 57",
      "metadata": {
        "trusted": true
      },
      "outputs": [
        {
          "name": "stdout",
          "output_type": "stream",
          "text": "12\n24\n28\n36\n57\n"
        }
      ],
      "execution_count": 5
    },
    {
      "id": "313833cb-212e-4a28-8a46-4f6f22d957cb",
      "cell_type": "code",
      "source": "x = 2\ny = 10\n\nwhile x < y:  #True\n    if x > 10: #False, True\n        break\n    print(x + y) #12, 24, 28\n    x += x #4, 8, 16\n    if x > 7:\n        continue\n    y +=y  #20 \ny += 5 #25\nprint(x + y) #25+16=41\n#12, 24, 28, 41",
      "metadata": {
        "trusted": true
      },
      "outputs": [
        {
          "name": "stdout",
          "output_type": "stream",
          "text": "12\n24\n28\n41\n"
        }
      ],
      "execution_count": 6
    },
    {
      "id": "9e7571b9-9548-4dff-8d42-d2ba33285ca5",
      "cell_type": "code",
      "source": "from tkinter import *\ndef Story1(win):\n  def final(tl: Toplevel, name, sports, City, playername, drinkname, snacks):\n\n    text = f'''\n       One day me and my friend {name} decided to play a {sports} game in {City}.\n       But we were not able to play.So, we went to watch the game and our favourite player {playername}.\n       We drank {drinkname} and also ate some {snacks} \n       We really enjoyed it! We are looking forward to go again and enjoy '''\n\n    tl.geometry(newGeometry='500x550')\n\n    Label(tl, text='Story:',  wraplength=tl.winfo_width()).place(x=160, y=310)\n    Label(tl, text=text,wraplength=tl.winfo_width()).place(x=0, y=330)\n\n  NewScreen = Toplevel(win, bg='yellow')\n  NewScreen.title(\"A Memorable Day\")\n  NewScreen.geometry('500x500')\n  Label(NewScreen, text=' A Memorable Day').place(x=100, y=0)\n  Label(NewScreen, text='Name:').place(x=0, y=35)\n  Label(NewScreen, text='Enter a game:').place(x=0, y=70)\n  Label(NewScreen, text='Enter a city:').place(x=0, y=110)\n  Label(NewScreen, text='Enter the name of a player:').place(x=0, y=150)\n  Label(NewScreen, text='Enter the name of a drink:').place(x=0, y=190)\n  Label(NewScreen, text='Enter the name of a snack:').place(x=0, y=230)\n  Name = Entry(NewScreen, width=17)\n  Name.place(x=250, y=35)\n  game = Entry(NewScreen, width=17)\n  game.place(x=250, y=70)\n  city = Entry(NewScreen, width=17)\n  city.place(x=250, y=105)\n  player = Entry(NewScreen, width=17)\n  player.place(x=250, y=150)\n  drink = Entry(NewScreen, width=17)\n  drink.place(x=250, y=190)\n  snack = Entry(NewScreen, width=17)\n  snack.place(x=250, y=220)\n  SubmitButton = Button(NewScreen, text=\"Submit\", background=\"Blue\", font=('Times', 12), command=lambda:final(NewScreen, Name.get(), game.get(), city.get(), player.get(), drink.get(), snack.get()))\n  SubmitButton.place(x=150, y=270)\n\n  NewScreen.mainloop()\ndef Story2(win):\n    def final(tl: Toplevel, profession, noun, feeling, emotion,verb):\n            text = f'''\n            When I was a child, I wanted to become a {profession}\n          but as I grew up I got into the {noun} and decided to become an\n          engineer. Then I went into a job that I was not {feeling} at.\n          After getting {emotion} I decided to do what I love.\n          Despite getting lower{verb} than I used to get in my previous job.I am very\n          feeling '''\n\n            tl.geometry(newGeometry='500x550')\n\n            Label(tl, text='Story:',  wraplength=tl.winfo_width()).place(x=160, y=310)\n            Label(tl, text=text,wraplength=tl.winfo_width()).place(x=0, y=330)\n    NewScreen = Toplevel(win, bg='red')\n    NewScreen.title(\"Ambitions\")\n    NewScreen.geometry('500x500')\n    Label(NewScreen, text='Ambitions').place(x=150, y=0)\n    Label(NewScreen, text='Enter a profession:').place(x=0, y=35)\n    Label(NewScreen, text='Enter a noun:').place(x=0, y=70)\n    Label(NewScreen, text='Enter a feeling:').place(x=0, y=110)\n    Label(NewScreen, text='Enter a emotion:').place(x=0, y=150)\n    Label(NewScreen, text='Enter a verb:').place(x=0, y=190)\n    Profession = Entry(NewScreen, width=17)\n    Profession.place(x=250, y=35)\n    Noun = Entry(NewScreen, width=17)\n    Noun.place(x=250, y=70)\n    Feeling = Entry(NewScreen, width=17)\n    Feeling.place(x=250, y=105)\n    Emotion= Entry(NewScreen, width=17)\n    Emotion.place(x=250, y=150)\n    Verb = Entry(NewScreen, width=17)\n    Verb.place(x=250, y=190)\n    SubmitButton = Button(NewScreen, text=\"Submit\", background=\"Blue\", font=('Times', 12), command=lambda:final(NewScreen, Profession.get(), Noun.get(), Feeling.get(), Emotion.get(), Verb.get()))\n    SubmitButton.place(x=150, y=270)\n  \n\nScreen = Tk()\nScreen.title(\"PythonGeeks Mad Libs Generator\")\nScreen.geometry('400x400')\nScreen.config(bg=\"pink\")\nLabel(Screen, text='PythonGeeks Mad Libs Generator').place(x=100, y=20)\nStory1Button = Button(Screen, text='A memorable day', font=(\"Times New Roman\", 13),command=lambda: Story1(Screen),bg='Blue')\nStory1Button.place(x=140, y=90)\nStory2Button = Button(Screen, text='Ambitions', font=(\"Times New Roman\", 13),command=lambda: Story2(Screen), bg='Blue')\nStory2Button.place(x=150, y=150)\n\nScreen.update()\nScreen.mainloop()\n",
      "metadata": {
        "trusted": true
      },
      "outputs": [
        {
          "ename": "<class 'ModuleNotFoundError'>",
          "evalue": "No module named 'tkinter'",
          "traceback": [
            "\u001b[0;31m---------------------------------------------------------------------------\u001b[0m",
            "\u001b[0;31mModuleNotFoundError\u001b[0m                       Traceback (most recent call last)",
            "Cell \u001b[0;32mIn[7], line 1\u001b[0m\n\u001b[0;32m----> 1\u001b[0m \u001b[38;5;28;01mfrom\u001b[39;00m \u001b[38;5;21;01mtkinter\u001b[39;00m \u001b[38;5;28;01mimport\u001b[39;00m \u001b[38;5;241m*\u001b[39m\n\u001b[1;32m      2\u001b[0m \u001b[38;5;28;01mdef\u001b[39;00m \u001b[38;5;21mStory1\u001b[39m(win):\n\u001b[1;32m      3\u001b[0m   \u001b[38;5;28;01mdef\u001b[39;00m \u001b[38;5;21mfinal\u001b[39m(tl: Toplevel, name, sports, City, playername, drinkname, snacks):\n",
            "\u001b[0;31mModuleNotFoundError\u001b[0m: No module named 'tkinter'"
          ],
          "output_type": "error"
        }
      ],
      "execution_count": 7
    },
    {
      "id": "ef55e622-5ec6-4b21-a905-f2bc5ead702d",
      "cell_type": "code",
      "source": "def calc(x,y):\n    while x < y:  #True\n        if x > 10: #True\n            break\n        print(x + y) # 12, 24, 28,\n        x += x # 4, 8, 16\n        if x > 7:\n            continue\n        y +=y  #20, \n    y += 5 # 25\n    print(x + y) #41\n#12,24,28,41",
      "metadata": {
        "trusted": true
      },
      "outputs": [],
      "execution_count": 8
    },
    {
      "id": "6b0b1d02-2ba1-4a2b-9d38-46a6b94765d9",
      "cell_type": "code",
      "source": "calc(2,10)",
      "metadata": {
        "trusted": true
      },
      "outputs": [
        {
          "name": "stdout",
          "output_type": "stream",
          "text": "12\n24\n28\n41\n"
        }
      ],
      "execution_count": 9
    },
    {
      "id": "3b6928a7-ddc1-4d57-a1dc-f9cefd360b35",
      "cell_type": "code",
      "source": "def t(n,t):\n    print(t,n)\n\nt(2,4)",
      "metadata": {
        "trusted": true
      },
      "outputs": [
        {
          "name": "stdout",
          "output_type": "stream",
          "text": "4 2\n"
        }
      ],
      "execution_count": 12
    },
    {
      "id": "0bddf933-8129-44f1-8f89-2ed2ee7384e4",
      "cell_type": "code",
      "source": "def check(x=5, y=7):\n    while x > y: #\n        for r in range(2): #0,1\n            y += 1 #4,6 \n        x += 1 #5, 6\n    return y\np = check(4,2)\n#6",
      "metadata": {
        "trusted": true
      },
      "outputs": [],
      "execution_count": 25
    },
    {
      "id": "0de96c20-3f36-422d-86fc-6175a13b29dc",
      "cell_type": "code",
      "source": "p *= p\nprint(p)",
      "metadata": {
        "trusted": true
      },
      "outputs": [
        {
          "name": "stdout",
          "output_type": "stream",
          "text": "36\n"
        }
      ],
      "execution_count": 26
    },
    {
      "id": "6da38349-b9f9-444c-b43c-33814b2812ed",
      "cell_type": "code",
      "source": "p = check()\nr = check(4,5)\ni = check(6,7)\nc = check(check(4,3),check(check(),5))\ne = check(3,2)\nprint(p,r,i,c,e)",
      "metadata": {
        "trusted": true
      },
      "outputs": [
        {
          "name": "stdout",
          "output_type": "stream",
          "text": "7 5 7 9 4\n"
        }
      ],
      "execution_count": 28
    },
    {
      "id": "2a1d8753-89bb-4391-8db0-d14964bd1109",
      "cell_type": "code",
      "source": "\"\"\"\nConverting regular functions into lambda functions:\nRegular function:\ndef function_name(parameters):\n    return expression\n\n    \nLambda function:\nlambda parameters: expression\n\"\"\"",
      "metadata": {
        "trusted": true
      },
      "outputs": [
        {
          "execution_count": 49,
          "output_type": "execute_result",
          "data": {
            "text/plain": "'\\nConverting regular functions into lambda functions:\\nRegular function:\\ndef function_name(parameters):\\n    return expression\\n\\n    \\nLambda function:\\nlambda parameters: expression\\n'"
          },
          "metadata": {}
        }
      ],
      "execution_count": 49
    },
    {
      "id": "b0ddf8ad-0304-4705-986c-484d479b6816",
      "cell_type": "code",
      "source": "def test(p,q):\n    print(p)",
      "metadata": {
        "trusted": true
      },
      "outputs": [],
      "execution_count": 30
    },
    {
      "id": "af2ec562-4e79-4864-a923-33058c252f00",
      "cell_type": "code",
      "source": "f = lambda p,q: print(p)\ntest('Paul','A')",
      "metadata": {
        "trusted": true
      },
      "outputs": [
        {
          "name": "stdout",
          "output_type": "stream",
          "text": "Paul\n"
        }
      ],
      "execution_count": 31
    },
    {
      "id": "a52fc1c5-e2db-40a9-9b4e-71832dad64af",
      "cell_type": "code",
      "source": "def text(s,t):\n    if s > t:\n        return s\n    else:\n        return t",
      "metadata": {
        "trusted": true,
        "scrolled": true
      },
      "outputs": [],
      "execution_count": 45
    },
    {
      "id": "28ec3772-13ff-4cdd-85d9-bfba303792ba",
      "cell_type": "code",
      "source": "text(3,4)",
      "metadata": {
        "trusted": true
      },
      "outputs": [
        {
          "execution_count": 48,
          "output_type": "execute_result",
          "data": {
            "text/plain": "4"
          },
          "metadata": {}
        }
      ],
      "execution_count": 48
    },
    {
      "id": "239b3e82-9ed1-4a45-ae37-0d8ee4e0eea8",
      "cell_type": "code",
      "source": "text = lambda s,t:s if s > t else t\ntext(3,4)",
      "metadata": {
        "trusted": true
      },
      "outputs": [
        {
          "execution_count": 47,
          "output_type": "execute_result",
          "data": {
            "text/plain": "4"
          },
          "metadata": {}
        }
      ],
      "execution_count": 47
    },
    {
      "id": "31520265-4891-4070-8a8a-c6a275a28572",
      "cell_type": "code",
      "source": "",
      "metadata": {
        "trusted": true
      },
      "outputs": [],
      "execution_count": null
    }
  ]
}