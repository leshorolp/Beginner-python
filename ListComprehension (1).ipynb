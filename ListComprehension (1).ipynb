{
 "cells": [
  {
   "cell_type": "code",
   "execution_count": 9,
   "id": "23e16dc7-55d9-48f4-82d7-7b9a525c5e5d",
   "metadata": {},
   "outputs": [],
   "source": [
    "myList = []\n",
    "myList.append(0)\n",
    "myList.append(0)"
   ]
  },
  {
   "cell_type": "code",
   "execution_count": 10,
   "id": "4ae8a82b-a283-4b24-89b3-e1ac5198f11f",
   "metadata": {},
   "outputs": [
    {
     "name": "stdout",
     "output_type": "stream",
     "text": [
      "[0, 0]\n"
     ]
    }
   ],
   "source": [
    "print(myList)"
   ]
  },
  {
   "cell_type": "code",
   "execution_count": 11,
   "id": "b21f2fb3-fd63-473a-9443-24f0d37e192a",
   "metadata": {},
   "outputs": [],
   "source": [
    "list2 = []\n",
    "for i in range(6):\n",
    "    list2.append(i)"
   ]
  },
  {
   "cell_type": "code",
   "execution_count": 12,
   "id": "548cd298-dd87-4508-b917-6a2820a0533b",
   "metadata": {},
   "outputs": [
    {
     "name": "stdout",
     "output_type": "stream",
     "text": [
      "[0, 1, 2, 3, 4, 5]\n"
     ]
    }
   ],
   "source": [
    "print(list2)"
   ]
  },
  {
   "cell_type": "code",
   "execution_count": 15,
   "id": "157aeb54-2e86-4db9-9750-65c634452f07",
   "metadata": {},
   "outputs": [
    {
     "name": "stdout",
     "output_type": "stream",
     "text": [
      "[6, 9, 12, 15, 18]\n"
     ]
    }
   ],
   "source": [
    "list3 = [i for i in range(6, 20, 3)]\n",
    "print(list3)"
   ]
  },
  {
   "cell_type": "code",
   "execution_count": 16,
   "id": "761fd401-ebad-4ff2-b04d-88245a76021c",
   "metadata": {},
   "outputs": [
    {
     "name": "stdout",
     "output_type": "stream",
     "text": [
      "[0, 1, 4, 9, 16, 25]\n"
     ]
    }
   ],
   "source": [
    "list4 = [i*i for i in range(6)]\n",
    "print(list4)"
   ]
  },
  {
   "cell_type": "code",
   "execution_count": 18,
   "id": "e55aba1a-9a33-4647-b656-749207d7ead1",
   "metadata": {},
   "outputs": [
    {
     "name": "stdout",
     "output_type": "stream",
     "text": [
      "['kiwi', 'mango', 'apples', 'banana', 'cherry', 'kiwi', 'mango']\n"
     ]
    }
   ],
   "source": [
    "fruits = ['apples', 'banana', 'cherry', 'kiwi' , 'mango'] #apple is the first element in the list and it is index 0.\n",
    "list5 = [fruits[x-2] for x in range(7)]\n",
    "print(list5)"
   ]
  },
  {
   "cell_type": "code",
   "execution_count": 22,
   "id": "8a626ca8-2050-46e4-a576-6f914c16f9fe",
   "metadata": {},
   "outputs": [
    {
     "data": {
      "text/plain": [
       "'cherry'"
      ]
     },
     "execution_count": 22,
     "metadata": {},
     "output_type": "execute_result"
    }
   ],
   "source": [
    "x = fruits[-3]\n",
    "x"
   ]
  },
  {
   "cell_type": "code",
   "execution_count": 23,
   "id": "9f5b2a6c-39c2-46c0-a236-52fc8350c1f0",
   "metadata": {},
   "outputs": [
    {
     "data": {
      "text/plain": [
       "['apples', 'banana', 'cherry', 'mango']"
      ]
     },
     "execution_count": 23,
     "metadata": {},
     "output_type": "execute_result"
    }
   ],
   "source": [
    "newList = [x for x in fruits if x != 'apple' and x != 'kiwi']\n",
    "newList"
   ]
  },
  {
   "cell_type": "code",
   "execution_count": 27,
   "id": "b48ebf61-b99e-4909-ab8f-46c7e8c929a1",
   "metadata": {},
   "outputs": [
    {
     "name": "stdout",
     "output_type": "stream",
     "text": [
      "5 is an odd number\n"
     ]
    }
   ],
   "source": [
    "print(f'{i} is an even number') if i % 2 == 0 else print(f'{i} is an odd number')"
   ]
  },
  {
   "cell_type": "code",
   "execution_count": 28,
   "id": "4804060b-199a-43c9-8c84-eb717432a8f0",
   "metadata": {},
   "outputs": [
    {
     "data": {
      "text/plain": [
       "2007"
      ]
     },
     "execution_count": 28,
     "metadata": {},
     "output_type": "execute_result"
    }
   ],
   "source": [
    "2025 - 18"
   ]
  },
  {
   "cell_type": "code",
   "execution_count": null,
   "id": "f2157aa3-d31b-4931-a43e-607f38aa0f9c",
   "metadata": {},
   "outputs": [],
   "source": []
  }
 ],
 "metadata": {
  "kernelspec": {
   "display_name": "Python 3 (ipykernel)",
   "language": "python",
   "name": "python3"
  },
  "language_info": {
   "codemirror_mode": {
    "name": "ipython",
    "version": 3
   },
   "file_extension": ".py",
   "mimetype": "text/x-python",
   "name": "python",
   "nbconvert_exporter": "python",
   "pygments_lexer": "ipython3",
   "version": "3.12.4"
  }
 },
 "nbformat": 4,
 "nbformat_minor": 5
}
