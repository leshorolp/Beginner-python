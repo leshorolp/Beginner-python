{
  "metadata": {
    "kernelspec": {
      "name": "python",
      "display_name": "Python (Pyodide)",
      "language": "python"
    },
    "language_info": {
      "codemirror_mode": {
        "name": "python",
        "version": 3
      },
      "file_extension": ".py",
      "mimetype": "text/x-python",
      "name": "python",
      "nbconvert_exporter": "python",
      "pygments_lexer": "ipython3",
      "version": "3.8"
    }
  },
  "nbformat_minor": 5,
  "nbformat": 4,
  "cells": [
    {
      "id": "91f17f4d-8cce-41a7-9c44-f09d1ce6711e",
      "cell_type": "code",
      "source": "cars = ['bmw', 'audi', 'toyota', 'ford']\ntest = cars[2][1:3] + cars[0][0].upper() + cars[1][-1]\nprint(test) #oyBi",
      "metadata": {
        "trusted": true
      },
      "outputs": [
        {
          "name": "stdout",
          "output_type": "stream",
          "text": "oyBi\n"
        }
      ],
      "execution_count": 1
    },
    {
      "id": "d32d680b-4ba6-43d9-94f6-dd706a6b6375",
      "cell_type": "code",
      "source": "words = ['python', 'coding', 'rocks']\ntest = words[0][2:4] + words[1][-2] + words[2][:2].upper()\nprint(test) #thnRO",
      "metadata": {
        "trusted": true
      },
      "outputs": [
        {
          "name": "stdout",
          "output_type": "stream",
          "text": "thnRO\n"
        }
      ],
      "execution_count": 2
    },
    {
      "id": "cbe4f4e8-7521-4c36-aed9-5a20146c4805",
      "cell_type": "code",
      "source": "cities = ['paris', 'berlin', 'tokyo', 'madrid']\ntest = cities[1][0] + cities[2][3] + cities[0][-1].upper() + cities[3][1:3]\nprint(test.swapcase()) \n#bySad >> BYsAD",
      "metadata": {
        "trusted": true
      },
      "outputs": [
        {
          "name": "stdout",
          "output_type": "stream",
          "text": "BYsAD\n"
        }
      ],
      "execution_count": 3
    },
    {
      "id": "8068cd63-a5aa-4790-a2a7-413edd2b4f09",
      "cell_type": "code",
      "source": "planets = ['earth', 'venus', 'mars', 'jupiter']\ntest = planets[3][0:3] + planets[0][1].upper() + planets[1][-2:] + planets[2][::-2]\nprint(test.capitalize())\n#jupAussa >> Jupaussa",
      "metadata": {
        "trusted": true
      },
      "outputs": [
        {
          "name": "stdout",
          "output_type": "stream",
          "text": "Jupaussa\n"
        }
      ],
      "execution_count": 4
    },
    {
      "id": "ea3ebdfd-34c0-467e-897d-6479d4aeab12",
      "cell_type": "code",
      "source": "tech = ['python', 'java', 'flutter', 'react']\ntest = tech[0][::-2] + tech[2][1:4] + tech[3][-2:].upper() + tech[1][0]\nprint(test.swapcase())\n#nhylutCTj >> NHYLUTctJ",
      "metadata": {
        "trusted": true
      },
      "outputs": [
        {
          "name": "stdout",
          "output_type": "stream",
          "text": "NHYLUTctJ\n"
        }
      ],
      "execution_count": 5
    },
    {
      "id": "23e821b2-957b-4593-821b-804f7b55b658",
      "cell_type": "code",
      "source": "pen = [\"Blue\",\"Black\",\"Purple\",\"Pink\",\"Brown\"]\nl = \"\"\nfor x in range(5):\n   l += pen[x-3][-1]\nprint(l)\n#eknek",
      "metadata": {
        "trusted": true
      },
      "outputs": [
        {
          "name": "stdout",
          "output_type": "stream",
          "text": "eknek\n"
        }
      ],
      "execution_count": 6
    },
    {
      "id": "750c5e6d-10a5-4c0b-80f8-da0884272b72",
      "cell_type": "markdown",
      "source": "Write a loop to print numbers from 1 to 10.",
      "metadata": {}
    },
    {
      "id": "1229e079-1ea2-40ac-b281-866a2901c6b1",
      "cell_type": "code",
      "source": "for i in range(1,11):\n    print(i)",
      "metadata": {
        "trusted": true
      },
      "outputs": [
        {
          "name": "stdout",
          "output_type": "stream",
          "text": "1\n2\n3\n4\n5\n6\n7\n8\n9\n10\n"
        }
      ],
      "execution_count": 7
    },
    {
      "id": "613cac40-6a06-4d68-a3c4-a2ee3abe3929",
      "cell_type": "markdown",
      "source": "Use a loop to calculate the sum of numbers from 1 to 100.",
      "metadata": {}
    },
    {
      "id": "4bd8a2e5-6e1e-406f-8b9d-7dffd03b9b9b",
      "cell_type": "code",
      "source": "total = 0\nfor i in range(1, 101):\n    total += i\nprint(total)",
      "metadata": {
        "trusted": true
      },
      "outputs": [
        {
          "name": "stdout",
          "output_type": "stream",
          "text": "5050\n"
        }
      ],
      "execution_count": 8
    },
    {
      "id": "f0bb8593-d208-44f4-b3ff-e7fb70e72e06",
      "cell_type": "markdown",
      "source": "Print all even numbers between 1 and 50.",
      "metadata": {}
    },
    {
      "id": "5d146c52-9b04-4152-88fb-fe49cb547542",
      "cell_type": "code",
      "source": "for i in range(2,51,2):\n    print(i)",
      "metadata": {
        "trusted": true
      },
      "outputs": [
        {
          "name": "stdout",
          "output_type": "stream",
          "text": "2\n4\n6\n8\n10\n12\n14\n16\n18\n20\n22\n24\n26\n28\n30\n32\n34\n36\n38\n40\n42\n44\n46\n48\n50\n"
        }
      ],
      "execution_count": 9
    },
    {
      "id": "068086f9-db17-411e-8529-e3501d606aff",
      "cell_type": "markdown",
      "source": "Use a while loop to print numbers from 10 down to 1.",
      "metadata": {}
    },
    {
      "id": "9866c396-1641-48c6-862d-a896d14d3b07",
      "cell_type": "code",
      "source": "i = 10\nwhile i >= 1:\n    print(i)\n    i -= 1",
      "metadata": {
        "trusted": true
      },
      "outputs": [
        {
          "name": "stdout",
          "output_type": "stream",
          "text": "10\n9\n8\n7\n6\n5\n4\n3\n2\n1\n"
        }
      ],
      "execution_count": 11
    },
    {
      "id": "f696d885-6328-40fd-9a3d-c9a68d19e8f7",
      "cell_type": "markdown",
      "source": "Write a loop that prints the square of each number from 1 to 10.",
      "metadata": {}
    },
    {
      "id": "1f080e44-1f44-46bc-83e9-be809f5a3b0a",
      "cell_type": "code",
      "source": "i = 1\nwhile i <= 10:\n    print(i**2)\n    i += 1",
      "metadata": {
        "trusted": true
      },
      "outputs": [
        {
          "name": "stdout",
          "output_type": "stream",
          "text": "1\n4\n9\n16\n25\n36\n49\n64\n81\n100\n"
        }
      ],
      "execution_count": 13
    },
    {
      "id": "3cadb478-a836-4a50-822d-9834c0785fae",
      "cell_type": "markdown",
      "source": "Loop through the string 'Python' and print each character.",
      "metadata": {}
    },
    {
      "id": "938f07cb-3a25-4bdc-8961-5d67f26c73a0",
      "cell_type": "code",
      "source": "name = 'Python'\nfor i in range(6):\n    print(name[i])\n    i += 1",
      "metadata": {
        "trusted": true
      },
      "outputs": [
        {
          "name": "stdout",
          "output_type": "stream",
          "text": "P\ny\nt\nh\no\nn\n"
        }
      ],
      "execution_count": 17
    },
    {
      "id": "2f5b5bac-5913-4390-9235-503666915c38",
      "cell_type": "code",
      "source": "for char in 'Python':\n    print(char)",
      "metadata": {
        "trusted": true
      },
      "outputs": [
        {
          "name": "stdout",
          "output_type": "stream",
          "text": "P\ny\nt\nh\no\nn\n"
        }
      ],
      "execution_count": 18
    },
    {
      "id": "df01bb4d-f52a-4d35-9e13-f92e8f138017",
      "cell_type": "code",
      "source": "for i in range(1, 21):\n    if i % 2 != 0:\n        print(i)",
      "metadata": {
        "trusted": true
      },
      "outputs": [],
      "execution_count": null
    }
  ]
}