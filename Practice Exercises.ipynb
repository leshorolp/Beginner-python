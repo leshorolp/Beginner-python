{
 "cells": [
  {
   "cell_type": "markdown",
   "id": "eff7d81a-e121-440b-b111-953f2231cc9f",
   "metadata": {},
   "source": [
    "#TRAFFIC DEPARTMENT PROJECT:\n",
    "\n",
    "Program for the Traffic Department:\n",
    "    1. Enter your your name\n",
    "    2. Enter your surname\n",
    "    3. Enter your year of birth\n",
    "    4. Print \"Dear name&surname you are eliguble or not eligible for a licence\""
   ]
  },
  {
   "cell_type": "code",
   "execution_count": 6,
   "id": "be448ea5-45e1-45ff-97db-f8efe1582676",
   "metadata": {},
   "outputs": [
    {
     "name": "stdin",
     "output_type": "stream",
     "text": [
      "Please enter your name:  hloni\n",
      "Enter your year of birth:  leshoro\n",
      "Enter your year of birth:  2001\n"
     ]
    },
    {
     "name": "stdout",
     "output_type": "stream",
     "text": [
      "Dear, HloniLeshoroyou are eligible for a licence because you are 24 years old.\n"
     ]
    }
   ],
   "source": [
    "def eligible():\n",
    "    name = input('Please enter your name: ').capitalize()\n",
    "    surname = input('Enter your year of birth: ').capitalize()\n",
    "    birthyear = int(input('Enter your year of birth: '))\n",
    "    age = 2025 - birthyear\n",
    "    if age >= 18:\n",
    "        return(name + f' ' + surname + f'you are eligible for a licence because you are ' + str(age) + f' years old.')\n",
    "    else:\n",
    "        return(name + surname + f'you are not eligible for a licence beause you are under the age of 18')\n",
    "\n",
    "eligibility = eligible()\n",
    "print(f'Dear, '  + eligibility)"
   ]
  },
  {
   "cell_type": "code",
   "execution_count": null,
   "id": "3903c8f3-44a7-485a-82cc-8e122a55c75e",
   "metadata": {},
   "outputs": [],
   "source": []
  }
 ],
 "metadata": {
  "kernelspec": {
   "display_name": "Python 3 (ipykernel)",
   "language": "python",
   "name": "python3"
  },
  "language_info": {
   "codemirror_mode": {
    "name": "ipython",
    "version": 3
   },
   "file_extension": ".py",
   "mimetype": "text/x-python",
   "name": "python",
   "nbconvert_exporter": "python",
   "pygments_lexer": "ipython3",
   "version": "3.12.4"
  }
 },
 "nbformat": 4,
 "nbformat_minor": 5
}
