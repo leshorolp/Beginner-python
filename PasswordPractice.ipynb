{
  "metadata": {
    "kernelspec": {
      "name": "python",
      "display_name": "Python (Pyodide)",
      "language": "python"
    },
    "language_info": {
      "codemirror_mode": {
        "name": "python",
        "version": 3
      },
      "file_extension": ".py",
      "mimetype": "text/x-python",
      "name": "python",
      "nbconvert_exporter": "python",
      "pygments_lexer": "ipython3",
      "version": "3.8"
    }
  },
  "nbformat_minor": 5,
  "nbformat": 4,
  "cells": [
    {
      "id": "0f43e385-cc55-4581-b22f-72411f7ff1d3",
      "cell_type": "code",
      "source": "correct_password = \"Password123\"\nattempts = 0\nmax_attempts = 3\n\nwhile attempts < max_attempts:\n    password = input(\"Enter your password:\")\n    if password == correct_password:\n        print(\"Access Granted\")\n        break\n    else:\n        attempts += 1\n        print(\"Incorrect. Type in password again\")\n\nif attempts == max_attempts:\n    print(\"Access Denied. Try again after 60 seconds\")",
      "metadata": {
        "trusted": true
      },
      "outputs": [
        {
          "output_type": "stream",
          "name": "stdin",
          "text": "Enter your password: Password123\n"
        },
        {
          "name": "stdout",
          "output_type": "stream",
          "text": "Access Granted\n"
        }
      ],
      "execution_count": 9
    },
    {
      "id": "c90eb36f-ca21-44fc-b8ac-84341c15712e",
      "cell_type": "code",
      "source": "",
      "metadata": {
        "trusted": true
      },
      "outputs": [],
      "execution_count": null
    }
  ]
}