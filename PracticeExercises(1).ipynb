{
 "cells": [
  {
   "cell_type": "code",
   "execution_count": null,
   "id": "7f921b06-4164-4b30-8243-4cfae057db6c",
   "metadata": {},
   "outputs": [],
   "source": [
    "ls = [2,3,4,5,6]\n",
    "ts = 'the bank'\n",
    "\n",
    "print(ts[ls[2]].capitalize())"
   ]
  },
  {
   "cell_type": "code",
   "execution_count": null,
   "id": "a6ec261f-fc37-43c5-b66a-7b7a0a71bfb0",
   "metadata": {},
   "outputs": [],
   "source": [
    "t = \"t\"\n",
    "t.swapcase() #It will turn the case of the variable so lower case t will be uppercase 'T"
   ]
  },
  {
   "cell_type": "code",
   "execution_count": null,
   "id": "ccc738d4-b8c9-4ab8-a98b-a3556d7b42ec",
   "metadata": {},
   "outputs": [],
   "source": [
    "fruit = ['apple', 'banana', 'grape', 'pear']\n",
    "test = fruit[0][1] + fruit[3][1] + fruit[2][2] + fruit[3][3]\n",
    "print(test.lower())\n",
    "print(test.capitalize())"
   ]
  },
  {
   "cell_type": "markdown",
   "id": "64c7f801-e71d-418f-ad4f-1f1ba47a8e84",
   "metadata": {},
   "source": [
    "Each question requires understanding:\n",
    "\n",
    "List indexing (list[index])\n",
    "\n",
    "String indexing (string[index])\n",
    "\n",
    "String concatenation (+)\n",
    "\n",
    "String methods (.lower(), .capitalize())\n",
    "\n",
    "The difficulty increases through longer words, more complex index combinations, and positions that require careful counting of character positions."
   ]
  },
  {
   "cell_type": "markdown",
   "id": "4bbc275b-40d1-48db-a621-0f55cba75952",
   "metadata": {},
   "source": [
    "Here are 10 questions with increasing difficulty following your pattern:"
   ]
  },
  {
   "cell_type": "code",
   "execution_count": null,
   "id": "f6045df4-9716-4e72-858a-5273faa542df",
   "metadata": {},
   "outputs": [],
   "source": [
    "#Level 1: Basic\n",
    "\n",
    "fruits = ['apple', 'banana', 'cherry', 'date']\n",
    "test = fruits[0][0] + fruits[1][1] + fruits[2][2] + fruits[3][3]\n",
    "print(test.lower())\n",
    "print(test.capitalize())"
   ]
  },
  {
   "cell_type": "code",
   "execution_count": null,
   "id": "fb71ed1c-715f-4ad9-a95c-d55fca08fa37",
   "metadata": {},
   "outputs": [],
   "source": [
    "#Level 2: Basic\n",
    "\n",
    "colors = ['red', 'blue', 'green', 'yellow']\n",
    "test = colors[1][2] + colors[0][1] + colors[3][0] + colors[2][3]\n",
    "print(test.lower())\n",
    "print(test.capitalize())"
   ]
  },
  {
   "cell_type": "code",
   "execution_count": null,
   "id": "f5b45a73-5ec1-4e01-89cc-091435cccf6a",
   "metadata": {},
   "outputs": [],
   "source": [
    "#Level 3: Intermediate\n",
    "\n",
    "animals = ['cat', 'dog', 'bird', 'fish']\n",
    "test = animals[3][1] + animals[0][2] + animals[2][0] + animals[1][1]\n",
    "print(test.lower())\n",
    "print(test.capitalize())"
   ]
  },
  {
   "cell_type": "code",
   "execution_count": null,
   "id": "e7630ba6-1033-4a17-891c-f411be68c3ed",
   "metadata": {},
   "outputs": [],
   "source": [
    "#Level 4: Intermediate\n",
    "\n",
    "shapes = ['circle', 'square', 'triangle', 'oval']\n",
    "test = shapes[2][4] + shapes[0][2] + shapes[1][3] + shapes[3][1]\n",
    "print(test.lower())\n",
    "print(test.capitalize())"
   ]
  },
  {
   "cell_type": "code",
   "execution_count": null,
   "id": "0a6e1da8-a916-4a98-8785-b70dac92631c",
   "metadata": {},
   "outputs": [],
   "source": [
    "#Level 5: Intermediate+\n",
    "\n",
    "vehicles = ['car', 'bus', 'train', 'plane']\n",
    "test = vehicles[3][3] + vehicles[1][0] + vehicles[0][2] + vehicles[2][2]\n",
    "print(test.lower())\n",
    "print(test.capitalize())"
   ]
  },
  {
   "cell_type": "code",
   "execution_count": null,
   "id": "b6b61db7-82a2-49af-8e4d-4173aee65b4a",
   "metadata": {},
   "outputs": [],
   "source": [
    "#Level 6: Advanced\n",
    "\n",
    "countries = ['spain', 'italy', 'france', 'germany']\n",
    "test = countries[0][4] + countries[3][2] + countries[1][0] + countries[2][3]\n",
    "print(test.lower())\n",
    "print(test.capitalize())"
   ]
  },
  {
   "cell_type": "code",
   "execution_count": null,
   "id": "e0f81fae-3c05-40a4-84df-f0f4b1cec664",
   "metadata": {},
   "outputs": [],
   "source": [
    "#Level 7: Advanced\n",
    "\n",
    "professions = ['doctor', 'teacher', 'engineer', 'artist']\n",
    "test = professions[2][5] + professions[0][3] + professions[3][2] + professions[1][4]\n",
    "print(test.lower())\n",
    "print(test.capitalize())"
   ]
  },
  {
   "cell_type": "code",
   "execution_count": null,
   "id": "cefa5244-63f1-4234-8229-b77b2ffb1a08",
   "metadata": {},
   "outputs": [],
   "source": [
    "#Level 8: Expert\n",
    "\n",
    "elements = ['oxygen', 'hydrogen', 'nitrogen', 'carbon']\n",
    "test = elements[1][7] + elements[3][2] + elements[0][1] + elements[2][5]\n",
    "print(test.lower())\n",
    "print(test.capitalize())"
   ]
  },
  {
   "cell_type": "code",
   "execution_count": null,
   "id": "410afd11-2e5d-4f35-971c-8f8361d4fc1b",
   "metadata": {},
   "outputs": [],
   "source": [
    "#Level 9: Expert+\n",
    "\n",
    "instruments = ['guitar', 'piano', 'violin', 'trumpet']\n",
    "test = instruments[3][5] + instruments[1][2] + instruments[0][4] + instruments[2][3]\n",
    "print(test.lower())\n",
    "print(test.capitalize())"
   ]
  },
  {
   "cell_type": "code",
   "execution_count": null,
   "id": "0faf916a-412b-42ad-ad16-a0428e636174",
   "metadata": {},
   "outputs": [],
   "source": [
    "#Level 10: Master\n",
    "\n",
    "programming = ['python', 'java', 'javascript', 'typescript']\n",
    "test = programming[2][9] + programming[3][4] + programming[0][3] + programming[1][2]\n",
    "print(test.lower())\n",
    "print(test.capitalize())"
   ]
  },
  {
   "cell_type": "code",
   "execution_count": null,
   "id": "a35bb90e-2610-4ed3-a935-b2f2baa61015",
   "metadata": {},
   "outputs": [],
   "source": []
  }
 ],
 "metadata": {
  "kernelspec": {
   "display_name": "Python 3 (ipykernel)",
   "language": "python",
   "name": "python3"
  },
  "language_info": {
   "codemirror_mode": {
    "name": "ipython",
    "version": 3
   },
   "file_extension": ".py",
   "mimetype": "text/x-python",
   "name": "python",
   "nbconvert_exporter": "python",
   "pygments_lexer": "ipython3",
   "version": "3.12.4"
  }
 },
 "nbformat": 4,
 "nbformat_minor": 5
}
