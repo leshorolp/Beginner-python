{
 "cells": [
  {
   "cell_type": "markdown",
   "id": "afabf981-a8ca-4017-a47e-2c4b8575a213",
   "metadata": {},
   "source": [
    "Each exercise follows the same pattern:\n",
    "\n",
    "A string of digits\n",
    "\n",
    "A starting index variable\n",
    "\n",
    "A result variable initialized to 0\n",
    "\n",
    "A while loop that decrements the index by a certain step\n",
    "\n",
    "The loop adds integer values of specific positions to the result\n",
    "\n",
    "The challenge is to trace the execution path and calculate the final result"
   ]
  },
  {
   "cell_type": "code",
   "execution_count": 8,
   "id": "26b472b4-2bcb-466f-88cb-1d11cc60384b",
   "metadata": {},
   "outputs": [
    {
     "name": "stdout",
     "output_type": "stream",
     "text": [
      "lluir\n",
      "lluireknee\n"
     ]
    }
   ],
   "source": [
    "pen = ['Blue', 'Blue', 'Purple', 'Pink', 'Brown']\n",
    "l = \"\"\n",
    "for x in range(5):\n",
    "    l += pen[x][1]\n",
    "print(l)\n",
    "for x in range(5):\n",
    "    l += pen[x-3][-1]\n",
    "print(l)"
   ]
  },
  {
   "cell_type": "code",
   "execution_count": 9,
   "id": "d804486f-c399-495d-82ce-ba75c3774731",
   "metadata": {},
   "outputs": [
    {
     "name": "stdout",
     "output_type": "stream",
     "text": [
      "nbMaea\n"
     ]
    }
   ],
   "source": [
    "names = \"Palesa,Mabena,Dimpho,Pearl\"\n",
    "x = 11\n",
    "text = ''\n",
    "while x > 0:\n",
    "    text += names[x] #, s l\n",
    "    x -= 2\n",
    "\n",
    "print(text)"
   ]
  },
  {
   "cell_type": "code",
   "execution_count": 10,
   "id": "42708514-c524-4b1c-8b53-52dd826b94a0",
   "metadata": {},
   "outputs": [
    {
     "name": "stdout",
     "output_type": "stream",
     "text": [
      "29\n"
     ]
    }
   ],
   "source": [
    "nums = \"274926403354757\"\n",
    "y = 11\n",
    "txt = 0\n",
    "while y > 0:\n",
    "    txt += int(nums[y])\n",
    "    y -= 2\n",
    "\n",
    "print(txt) #4 + 3 + 0 + 6 + 9 + 7"
   ]
  },
  {
   "cell_type": "code",
   "execution_count": 11,
   "id": "8221e463-db06-432a-9e5f-4a56c9ca7923",
   "metadata": {},
   "outputs": [
    {
     "name": "stdout",
     "output_type": "stream",
     "text": [
      "7\n"
     ]
    }
   ],
   "source": [
    "nums = \"274926403354757\"\n",
    "y = 11\n",
    "txt = 0\n",
    "while y > txt:\n",
    "    txt += int(nums[y])\n",
    "    y -= 2\n",
    "\n",
    "print(txt) #0+4+3"
   ]
  },
  {
   "cell_type": "code",
   "execution_count": 12,
   "id": "7ab1788e-3448-43d6-826d-bd5dcf76e64b",
   "metadata": {},
   "outputs": [
    {
     "name": "stdout",
     "output_type": "stream",
     "text": [
      "15\n"
     ]
    }
   ],
   "source": [
    "nums = \"538291746\"\n",
    "x = 8\n",
    "total = 0\n",
    "while x > 0:\n",
    "    total += int(nums[x])\n",
    "    x -= 3\n",
    "\n",
    "print(total)  # 6 + 1 + 5"
   ]
  },
  {
   "cell_type": "code",
   "execution_count": 13,
   "id": "b148da31-350a-4ef2-9ddc-d59352578b70",
   "metadata": {},
   "outputs": [
    {
     "name": "stdout",
     "output_type": "stream",
     "text": [
      "7\n"
     ]
    }
   ],
   "source": [
    "digits = \"9274851360\"\n",
    "i = 9\n",
    "sum = 0\n",
    "while i >= 1:\n",
    "    sum += int(digits[i])\n",
    "    i -= 4\n",
    "\n",
    "print(sum)  # 0 + 3 + 4 + 9"
   ]
  },
  {
   "cell_type": "code",
   "execution_count": 14,
   "id": "35300c9a-570f-46a7-97ed-9b51ae53f6e3",
   "metadata": {},
   "outputs": [
    {
     "name": "stdout",
     "output_type": "stream",
     "text": [
      "15\n"
     ]
    }
   ],
   "source": [
    "number_str = \"6183054729\"\n",
    "pos = 7\n",
    "result = 0\n",
    "while pos >= 2:\n",
    "    result += int(number_str[pos])\n",
    "    pos -= 5\n",
    "\n",
    "print(result)  # 7 + 8 + 6"
   ]
  },
  {
   "cell_type": "code",
   "execution_count": 18,
   "id": "360a41ac-6918-4ec0-92d8-deb1c5ff0b94",
   "metadata": {
    "scrolled": true
   },
   "outputs": [
    {
     "name": "stdout",
     "output_type": "stream",
     "text": [
      "{2, 6, 10, 12, 14, 16, 18, 20}\n"
     ]
    }
   ],
   "source": [
    "numbers = {2,6}\n",
    "for x in range(10, 21, 2): #10, 12, 14, 16, 18, 20\n",
    "    numbers.add(x)\n",
    "print(numbers)"
   ]
  },
  {
   "cell_type": "code",
   "execution_count": 20,
   "id": "ae730e77-bd21-4c46-a8dc-692e2c37535d",
   "metadata": {},
   "outputs": [
    {
     "name": "stdout",
     "output_type": "stream",
     "text": [
      "[2, 6, 16, 28, 42, 58, 76, 96]\n"
     ]
    }
   ],
   "source": [
    "numbers = [2,6]\n",
    "for x in range(10, 21, 2): #10, 12, 14, 16, 18, 20\n",
    "    numbers.append(x+numbers[-1])\n",
    "print(numbers)"
   ]
  },
  {
   "cell_type": "code",
   "execution_count": 22,
   "id": "22066116-54ff-4a0e-b3f7-841001db7d2f",
   "metadata": {},
   "outputs": [
    {
     "name": "stdout",
     "output_type": "stream",
     "text": [
      "{1, 5, 7, 10, 13, 16, 19}\n"
     ]
    }
   ],
   "source": [
    "numbers1 = {1, 5, 7}\n",
    "for i in range(10,20,3):\n",
    "    numbers1.add(i)\n",
    "print(numbers1)"
   ]
  },
  {
   "cell_type": "code",
   "execution_count": null,
   "id": "98dafb37-1a40-42f0-842d-ee8881de97d6",
   "metadata": {},
   "outputs": [],
   "source": []
  }
 ],
 "metadata": {
  "kernelspec": {
   "display_name": "Python 3 (ipykernel)",
   "language": "python",
   "name": "python3"
  },
  "language_info": {
   "codemirror_mode": {
    "name": "ipython",
    "version": 3
   },
   "file_extension": ".py",
   "mimetype": "text/x-python",
   "name": "python",
   "nbconvert_exporter": "python",
   "pygments_lexer": "ipython3",
   "version": "3.12.4"
  }
 },
 "nbformat": 4,
 "nbformat_minor": 5
}
