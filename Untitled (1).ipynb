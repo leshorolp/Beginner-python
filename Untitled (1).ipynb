{
 "cells": [
  {
   "cell_type": "code",
   "execution_count": 1,
   "id": "f276cff2-9baa-4c6d-8bb3-8273943b1d46",
   "metadata": {},
   "outputs": [
    {
     "name": "stdout",
     "output_type": "stream",
     "text": [
      "45\n"
     ]
    }
   ],
   "source": [
    "print(28+17)"
   ]
  },
  {
   "cell_type": "code",
   "execution_count": 2,
   "id": "38929903-84b9-4abd-9666-70603301724c",
   "metadata": {},
   "outputs": [],
   "source": [
    "l = 5\n",
    "b = 2\n",
    "rect = 2*l+2*b"
   ]
  },
  {
   "cell_type": "code",
   "execution_count": 3,
   "id": "5991c2e6-98ad-4ebb-8a26-5759a8e813ce",
   "metadata": {
    "scrolled": true
   },
   "outputs": [
    {
     "name": "stdout",
     "output_type": "stream",
     "text": [
      "14\n"
     ]
    }
   ],
   "source": [
    "print(rect)"
   ]
  },
  {
   "cell_type": "code",
   "execution_count": 4,
   "id": "eacdc848-5ffc-4c9d-8154-57343fdd19aa",
   "metadata": {
    "scrolled": true
   },
   "outputs": [
    {
     "name": "stdout",
     "output_type": "stream",
     "text": [
      "24\n"
     ]
    }
   ],
   "source": [
    "l = 5\n",
    "b = 7\n",
    "rect = 2*l+2*b\n",
    "print(rect)"
   ]
  },
  {
   "cell_type": "code",
   "execution_count": 5,
   "id": "b2097e84-a182-4df5-87da-d6c82f0adbbe",
   "metadata": {},
   "outputs": [],
   "source": [
    "def par(l, b):\n",
    "    return 2*l+2*b, l*b"
   ]
  },
  {
   "cell_type": "code",
   "execution_count": 6,
   "id": "e7bb80b6-6d97-4cfb-b84c-cd1bf5490358",
   "metadata": {
    "scrolled": true
   },
   "outputs": [
    {
     "name": "stdout",
     "output_type": "stream",
     "text": [
      "22 28\n"
     ]
    }
   ],
   "source": [
    "x,y = par(4,7)\n",
    "print(x, y)"
   ]
  },
  {
   "cell_type": "code",
   "execution_count": 7,
   "id": "693afac8-1df7-4936-b2ef-924580a2b2fb",
   "metadata": {},
   "outputs": [
    {
     "data": {
      "text/plain": [
       "46"
      ]
     },
     "execution_count": 7,
     "metadata": {},
     "output_type": "execute_result"
    }
   ],
   "source": [
    "x = 5\n",
    "def per(l, b):\n",
    "    return 2*l + 2*b\n",
    "per(per(per(2 if x < 6 else 7,2),1),5)"
   ]
  },
  {
   "cell_type": "code",
   "execution_count": null,
   "id": "6aef2337-949b-43e5-8e53-e0960c2c244e",
   "metadata": {},
   "outputs": [],
   "source": []
  }
 ],
 "metadata": {
  "kernelspec": {
   "display_name": "Python 3 (ipykernel)",
   "language": "python",
   "name": "python3"
  },
  "language_info": {
   "codemirror_mode": {
    "name": "ipython",
    "version": 3
   },
   "file_extension": ".py",
   "mimetype": "text/x-python",
   "name": "python",
   "nbconvert_exporter": "python",
   "pygments_lexer": "ipython3",
   "version": "3.12.4"
  }
 },
 "nbformat": 4,
 "nbformat_minor": 5
}
