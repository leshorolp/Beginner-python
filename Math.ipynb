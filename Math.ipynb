{
 "cells": [
  {
   "cell_type": "code",
   "execution_count": 1,
   "id": "e4b16ec3-edbe-473f-960f-a66f3ef74aa1",
   "metadata": {},
   "outputs": [
    {
     "name": "stdout",
     "output_type": "stream",
     "text": [
      "3.141592653589793\n"
     ]
    }
   ],
   "source": [
    "import math\n",
    "print(math.pi)"
   ]
  },
  {
   "cell_type": "code",
   "execution_count": 2,
   "id": "0f434a08-473b-4bef-b0a0-b419debaf2fe",
   "metadata": {},
   "outputs": [
    {
     "name": "stdout",
     "output_type": "stream",
     "text": [
      "2.718281828459045\n",
      "6.283185307179586\n",
      "8.0\n"
     ]
    }
   ],
   "source": [
    "print(math.e)\n",
    "print(math.tau)\n",
    "print(math.pow(2,3))"
   ]
  },
  {
   "cell_type": "code",
   "execution_count": 3,
   "id": "cea76ddc-e63a-4d0f-97df-9b66b9eca318",
   "metadata": {},
   "outputs": [
    {
     "name": "stdout",
     "output_type": "stream",
     "text": [
      "Modulus (r): 3.605551275463989\n",
      "Phase angle (theta in radians): 0.982793723247329\n"
     ]
    }
   ],
   "source": [
    "import cmath\n",
    "\n",
    "z = 2 + 3j  # Example complex number\n",
    "\n",
    "r, theta = cmath.polar(z)\n",
    "\n",
    "print(f\"Modulus (r): {r}\")\n",
    "print(f\"Phase angle (theta in radians): {theta}\")"
   ]
  },
  {
   "cell_type": "code",
   "execution_count": 4,
   "id": "f3bc8433-2130-4c14-b748-e0c6b96362e0",
   "metadata": {},
   "outputs": [
    {
     "data": {
      "text/plain": [
       "10.0"
      ]
     },
     "execution_count": 4,
     "metadata": {},
     "output_type": "execute_result"
    }
   ],
   "source": [
    "math.sqrt(100)"
   ]
  },
  {
   "cell_type": "code",
   "execution_count": 5,
   "id": "76b37536-be4e-4506-a508-7bce0328dffa",
   "metadata": {},
   "outputs": [
    {
     "name": "stdout",
     "output_type": "stream",
     "text": [
      "5.830951894845301\n"
     ]
    }
   ],
   "source": [
    "a = 5\n",
    "b = 3\n",
    "c = math.sqrt(a**2 + b**2)\n",
    "print(c)"
   ]
  },
  {
   "cell_type": "code",
   "execution_count": 14,
   "id": "bfe7a5fb-945c-40b3-b90a-b6090f934428",
   "metadata": {},
   "outputs": [
    {
     "name": "stdout",
     "output_type": "stream",
     "text": [
      "2.4999999999999996\n"
     ]
    }
   ],
   "source": [
    "import math\n",
    "h = 5\n",
    "a = 3\n",
    "angle = 30\n",
    "o = h * math.sin(math.radians(angle))\n",
    "print(o)"
   ]
  },
  {
   "cell_type": "code",
   "execution_count": null,
   "id": "53d25fb7-221a-4381-913e-6853661f199c",
   "metadata": {},
   "outputs": [],
   "source": []
  }
 ],
 "metadata": {
  "kernelspec": {
   "display_name": "Python 3 (ipykernel)",
   "language": "python",
   "name": "python3"
  },
  "language_info": {
   "codemirror_mode": {
    "name": "ipython",
    "version": 3
   },
   "file_extension": ".py",
   "mimetype": "text/x-python",
   "name": "python",
   "nbconvert_exporter": "python",
   "pygments_lexer": "ipython3",
   "version": "3.12.4"
  }
 },
 "nbformat": 4,
 "nbformat_minor": 5
}
