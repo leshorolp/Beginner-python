{
 "cells": [
  {
   "cell_type": "code",
   "execution_count": 8,
   "id": "e4a2aa44-9e23-499d-b2bc-c67b3a017eb8",
   "metadata": {},
   "outputs": [
    {
     "name": "stdout",
     "output_type": "stream",
     "text": [
      "True\n"
     ]
    }
   ],
   "source": [
    "a = 1\n",
    "b = 0\n",
    "print(a and not b or not a and b) #Exclusive OR gate"
   ]
  },
  {
   "cell_type": "code",
   "execution_count": 11,
   "id": "574d185d-6f12-4f83-a2dd-8c3e013777fc",
   "metadata": {},
   "outputs": [
    {
     "name": "stdout",
     "output_type": "stream",
     "text": [
      "9\n",
      "10\n",
      "8\n",
      "2.0\n",
      "2.0\n"
     ]
    }
   ],
   "source": [
    "num1 = 4\n",
    "num2 = 7\n",
    "num2 += 2\n",
    "print(num2)\n",
    "num3 = 19\n",
    "num3 -= num2\n",
    "print(num3)\n",
    "num4 = 2\n",
    "num4 *= num1\n",
    "print(num4)\n",
    "num5 = 16\n",
    "num5 /= num4\n",
    "print(num5)\n",
    "num5 %= num4\n",
    "print(num5)"
   ]
  },
  {
   "cell_type": "code",
   "execution_count": null,
   "id": "801ebc9f-739c-4433-ac56-f740a4fdba84",
   "metadata": {},
   "outputs": [],
   "source": []
  }
 ],
 "metadata": {
  "kernelspec": {
   "display_name": "Python 3 (ipykernel)",
   "language": "python",
   "name": "python3"
  },
  "language_info": {
   "codemirror_mode": {
    "name": "ipython",
    "version": 3
   },
   "file_extension": ".py",
   "mimetype": "text/x-python",
   "name": "python",
   "nbconvert_exporter": "python",
   "pygments_lexer": "ipython3",
   "version": "3.12.4"
  }
 },
 "nbformat": 4,
 "nbformat_minor": 5
}
