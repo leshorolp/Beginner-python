{
  "metadata": {
    "kernelspec": {
      "name": "python",
      "display_name": "Python (Pyodide)",
      "language": "python"
    },
    "language_info": {
      "codemirror_mode": {
        "name": "python",
        "version": 3
      },
      "file_extension": ".py",
      "mimetype": "text/x-python",
      "name": "python",
      "nbconvert_exporter": "python",
      "pygments_lexer": "ipython3",
      "version": "3.8"
    }
  },
  "nbformat_minor": 5,
  "nbformat": 4,
  "cells": [
    {
      "id": "d5e795a7-083d-41bd-a7e2-7857a13e7ab8",
      "cell_type": "code",
      "source": "a = 6\nb = 4\nprint(a//b)\nwhile a > b:\n    print(a)\n    break",
      "metadata": {
        "trusted": true
      },
      "outputs": [],
      "execution_count": null
    },
    {
      "id": "f80a35b0-2e54-401e-b2ff-7b83f54c41eb",
      "cell_type": "code",
      "source": "principal = 1000  # Principal amount\nrate = 5 / 100    # Annual interest rate\ntime = 10         # Time in years\nn = 4             # Interest is compounded quarterly\n\namount = principal * (1 + rate / n) ** (n * time)\nprint(f\"Compound Interest: {amount - principal}\")  \nprint(f\"Total Amount: {amount}\") ",
      "metadata": {
        "trusted": true
      },
      "outputs": [],
      "execution_count": null
    },
    {
      "id": "6f3d7f52-98cb-4e18-803c-61ed4f095357",
      "cell_type": "code",
      "source": "chess = ['pawn', 'rook', 'knight', 'bishop', 'queen', 'king' ]\nfor index, pieces in enumerate(chess):\n    print(f'{index}: {pieces}')",
      "metadata": {
        "trusted": true
      },
      "outputs": [],
      "execution_count": null
    },
    {
      "id": "c1c7e9cd-1290-4900-b8f0-50f7e80dee0d",
      "cell_type": "code",
      "source": "for i in range(0,21):\n    if i in range(1,21,2):\n        continue\n    print(i)",
      "metadata": {
        "trusted": true
      },
      "outputs": [],
      "execution_count": null
    },
    {
      "id": "53bc63df-e020-412e-9e10-5bf655d6421e",
      "cell_type": "code",
      "source": "countdown = 10\nwhile countdown > 0:\n    print(countdown)\n    countdown -= 1\nprint(\"HAPPY NEW YEAR!\")",
      "metadata": {
        "trusted": true
      },
      "outputs": [],
      "execution_count": null
    },
    {
      "id": "ec3bd531-0d37-48c7-b2a7-1c95fc03ddb7",
      "cell_type": "code",
      "source": "age_str = input(\"Enter your age: \")\nage_int = str(age_str)\nprint(f\"I am {age_int} years old\")",
      "metadata": {
        "trusted": true
      },
      "outputs": [],
      "execution_count": null
    },
    {
      "id": "8b941ee3-e143-4a59-87f7-648196f7dbd2",
      "cell_type": "code",
      "source": "user_input = int(input(\"Enter a number between 1 and 10: \"))\n\nwhile user_input < 1 or user_input > 10:\n    print(\"Invalid input. Please try again.\")\n    user_input = int(input(\"Enter a number between 1 and 10: \"))\n\nprint(\"Thank you! You entered:\", user_input)",
      "metadata": {
        "trusted": true
      },
      "outputs": [],
      "execution_count": null
    },
    {
      "id": "d9101a91-fa8b-4193-aefc-2c8bc5e8e01e",
      "cell_type": "code",
      "source": "def calculate_marks(results):\n    #Write code here:\n    highest_mark = results[0]\n    lowest_mark = results[0]\n    for i in results:\n        if (i > highest_mark):\n            highest_mark = i\n        if (i < lowest_mark):\n            lowest_mark = i\n    \n    total = 0\n    for i in results:\n        total += i\n    \n    avg = total / len(results)\n    \n    return highest_mark, lowest_mark, avg\nmarks = [10, 15, 50, 25, 60, 80, 72, 65, 0]\nhighest_mark, lowest_mark, avg = calculate_marks(marks)\n\nprint(f\"Highest Mark: {highest_mark}\")\nprint(f\"Lowest Mark: {lowest_mark}\")\nprint(f\"Average: {round(avg, 2)}\")",
      "metadata": {
        "trusted": true,
        "jupyter": {
          "source_hidden": true
        }
      },
      "outputs": [],
      "execution_count": null
    },
    {
      "id": "5547fae3-ba90-4794-9402-6c34c2b58964",
      "cell_type": "code",
      "source": "",
      "metadata": {
        "trusted": true
      },
      "outputs": [],
      "execution_count": null
    }
  ]
}