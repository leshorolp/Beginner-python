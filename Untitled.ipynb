{
 "cells": [
  {
   "cell_type": "code",
   "execution_count": 2,
   "id": "b3b2f552-da8c-47ea-9b9d-dc0b83a14907",
   "metadata": {},
   "outputs": [
    {
     "name": "stdout",
     "output_type": "stream",
     "text": [
      "['Apples', 'Banana', 'Mango', 'Orange']\n"
     ]
    }
   ],
   "source": [
    "fruits = ['Apples' , 'Banana' , 'Mango' , 'Orange']\n",
    "print(fruits)"
   ]
  },
  {
   "cell_type": "code",
   "execution_count": null,
   "id": "76d5dcc6-4c19-4e77-a991-fddfae20fc7f",
   "metadata": {},
   "outputs": [],
   "source": [
    "list_ = []\n",
    "tuple_ = ()\n",
    "set_ = {}\n"
   ]
  },
  {
   "cell_type": "code",
   "execution_count": 7,
   "id": "041e8377-8fc1-40db-b2d5-3aa593a1a620",
   "metadata": {},
   "outputs": [
    {
     "name": "stdout",
     "output_type": "stream",
     "text": [
      "{'name': 'John', 'age': 25, 'city': 'New York'}\n",
      "['Orange', 'Mango', 'Banana', 'Apples']\n"
     ]
    }
   ],
   "source": [
    "my_dict = {'name': 'John', 'age': 25, 'city': 'New York'}\n",
    "fruits.reverse()\n",
    "print(my_dict) # Output: {'name': 'John', 'age': 25, 'city': 'New York'}\n",
    "print(fruits)"
   ]
  },
  {
   "cell_type": "code",
   "execution_count": null,
   "id": "01111ac9-7b9e-45bf-ac6f-ff825fbd1c49",
   "metadata": {},
   "outputs": [],
   "source": []
  }
 ],
 "metadata": {
  "kernelspec": {
   "display_name": "Python 3 (ipykernel)",
   "language": "python",
   "name": "python3"
  },
  "language_info": {
   "codemirror_mode": {
    "name": "ipython",
    "version": 3
   },
   "file_extension": ".py",
   "mimetype": "text/x-python",
   "name": "python",
   "nbconvert_exporter": "python",
   "pygments_lexer": "ipython3",
   "version": "3.12.4"
  }
 },
 "nbformat": 4,
 "nbformat_minor": 5
}
