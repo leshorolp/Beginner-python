{
 "cells": [
  {
   "cell_type": "code",
   "execution_count": 1,
   "id": "bbc16d1d-1460-40bb-939e-f998eca5c78b",
   "metadata": {},
   "outputs": [
    {
     "name": "stdout",
     "output_type": "stream",
     "text": [
      "Hello, world\n"
     ]
    }
   ],
   "source": [
    "print(\"Hello, world\")"
   ]
  },
  {
   "cell_type": "code",
   "execution_count": 2,
   "id": "365f66d6-3ba8-4108-915b-ca522601fe87",
   "metadata": {},
   "outputs": [],
   "source": [
    "name = \"Mokwapnana\""
   ]
  },
  {
   "cell_type": "code",
   "execution_count": 3,
   "id": "49b70466-e3d0-4be2-835b-4d31cc656c72",
   "metadata": {},
   "outputs": [
    {
     "name": "stdout",
     "output_type": "stream",
     "text": [
      "Hello, Mokwapnana\n",
      "Amen Halleluyah\n"
     ]
    }
   ],
   "source": [
    "print(\"Hello, \" + name)\n",
    "print(\"Amen Halleluyah\")"
   ]
  },
  {
   "cell_type": "code",
   "execution_count": 4,
   "id": "070d06e6-3385-4aa4-a8a0-a17c9a0cfacf",
   "metadata": {},
   "outputs": [],
   "source": [
    "animalname = 'Horse'"
   ]
  },
  {
   "cell_type": "code",
   "execution_count": 5,
   "id": "f2f2b444-ae17-44ec-bf8f-c0a7fbf81ff7",
   "metadata": {
    "scrolled": true
   },
   "outputs": [
    {
     "name": "stdout",
     "output_type": "stream",
     "text": [
      "Horse\n",
      "Hog\n"
     ]
    }
   ],
   "source": [
    "animal = 'Hog'\n",
    "print(animalname)\n",
    "print(animal)"
   ]
  },
  {
   "cell_type": "code",
   "execution_count": 6,
   "id": "49924858-5d21-4d6b-b361-9068e5d21343",
   "metadata": {},
   "outputs": [],
   "source": [
    "#this is just some notes"
   ]
  },
  {
   "cell_type": "markdown",
   "id": "53d40837-bb5d-400d-a91b-9cf0055c5e61",
   "metadata": {},
   "source": [
    "this is also notes"
   ]
  },
  {
   "cell_type": "code",
   "execution_count": null,
   "id": "4bd94b56-12fc-4196-a85f-a46122252876",
   "metadata": {},
   "outputs": [],
   "source": []
  }
 ],
 "metadata": {
  "kernelspec": {
   "display_name": "Python 3 (ipykernel)",
   "language": "python",
   "name": "python3"
  },
  "language_info": {
   "codemirror_mode": {
    "name": "ipython",
    "version": 3
   },
   "file_extension": ".py",
   "mimetype": "text/x-python",
   "name": "python",
   "nbconvert_exporter": "python",
   "pygments_lexer": "ipython3",
   "version": "3.12.4"
  }
 },
 "nbformat": 4,
 "nbformat_minor": 5
}
