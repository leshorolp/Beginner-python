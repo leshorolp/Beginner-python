{
 "cells": [
  {
   "cell_type": "code",
   "execution_count": null,
   "id": "2fd4a4ca-f028-4e0a-b591-b161262cd8aa",
   "metadata": {},
   "outputs": [],
   "source": [
    "'''\n",
    "Functions in Python\n",
    "A function in Python is a reusable block of code designed to perform a specific task. Functions help make your code modular, organized, and easier to maintain. Here's a quick overview:\n",
    "Key Features of Functions\n",
    "\n",
    "Reusable: Write once, use multiple times.\n",
    "Parameters: Accept input values (optional).\n",
    "Return Values: Can return data as output (optional).\n",
    "Modularity: Breaks down complex problems into smaller, manageable parts.\n",
    "\n",
    "\n",
    "Defining a Function\n",
    "You define a function using the def keyword:\n",
    "def greet(name):\n",
    "    \"\"\"This function greets the user by name.\"\"\"\n",
    "\n",
    "    print(f\"Hello, {name}!\")\n",
    "\n",
    "\n",
    "Calling a Function\n",
    "To execute a function, simply call it by its name:\n",
    "'''\n",
    "greet(\"Alice\")  # Output: Hello, Alice!\n",
    "\n",
    "#Function with Return Value. Functions can return a value using the return statement:\n",
    "def add_numbers(a, b):\n",
    "    return a + b\n",
    "\n",
    "result = add_numbers(5, 3)\n",
    "print(result)  # Output: 8\n",
    "\n",
    "\n",
    "#Function with Default Parameters. You can set default values for parameters:\n",
    "def greet(name=\"Guest\"):\n",
    "    print(f\"Welcome, {name}!\")\n",
    "\n",
    "greet()          # Output: Welcome, Guest!\n",
    "greet(\"John\")    # Output: Welcome, John!\n",
    "\n",
    "\n",
    "#Lambda Functions. For short, single-expression functions, you can use a lambda function:\n",
    "square = lambda x: x ** 2\n",
    "print(square(4))  # Output: 16\n",
    "\n",
    "#Functions are a powerful tool in Python, enabling you to write clean, efficient, and reusable code!\n",
    "\n"
   ]
  },
  {
   "cell_type": "code",
   "execution_count": 2,
   "id": "314fcfc1-469c-4922-8b85-227a2fd45889",
   "metadata": {},
   "outputs": [
    {
     "name": "stdout",
     "output_type": "stream",
     "text": [
      "this is a long sentence and its too long\n"
     ]
    }
   ],
   "source": [
    "print(\"this is a long sentence and its too long\")"
   ]
  },
  {
   "cell_type": "code",
   "execution_count": 3,
   "id": "b0da77ce-0790-4d26-ad11-193be0f163c1",
   "metadata": {},
   "outputs": [],
   "source": [
    "def printer():\n",
    "    print(\"this is a long sentence and its too long\")\n",
    "    print"
   ]
  },
  {
   "cell_type": "code",
   "execution_count": 4,
   "id": "25071a1c-37c5-4b9d-a786-0f2f0e94ac43",
   "metadata": {
    "scrolled": true
   },
   "outputs": [
    {
     "name": "stdout",
     "output_type": "stream",
     "text": [
      "this is a long sentence and its too long\n"
     ]
    }
   ],
   "source": [
    "printer()"
   ]
  },
  {
   "cell_type": "code",
   "execution_count": 58,
   "id": "cfdd67e7-089c-4fc9-aef0-e3f0a245ccaf",
   "metadata": {},
   "outputs": [],
   "source": [
    "import math\n",
    "\n",
    "def hyp():\n",
    "    l = 5\n",
    "    b = 5\n",
    "    h = math.sqrt(l**2 + b**2)\n",
    "    print\n",
    "    \n",
    "def clr_area(r):\n",
    "    if r <= 0:\n",
    "        print(\"Radius must be positive\")\n",
    "        return 0\n",
    "    else:\n",
    "        area = math.pi * r ** 2\n",
    "        return area"
   ]
  },
  {
   "cell_type": "code",
   "execution_count": 59,
   "id": "7ea939e1-4229-4f6b-ba99-dc32ff2583f8",
   "metadata": {},
   "outputs": [],
   "source": [
    "hyp()"
   ]
  },
  {
   "cell_type": "code",
   "execution_count": 60,
   "id": "d3bacd57-95b3-4fd1-b1d6-9d2306c7486a",
   "metadata": {
    "scrolled": true
   },
   "outputs": [
    {
     "data": {
      "text/plain": [
       "50.26548245743669"
      ]
     },
     "execution_count": 60,
     "metadata": {},
     "output_type": "execute_result"
    }
   ],
   "source": [
    "clr_area(4)"
   ]
  },
  {
   "cell_type": "code",
   "execution_count": 61,
   "id": "ba12dff5-5356-4475-855e-07fb3bbc1188",
   "metadata": {},
   "outputs": [],
   "source": [
    "def hyp(length, breadth):\n",
    "    l = length\n",
    "    b = breadth\n",
    "    if l == 0 or b == 0:\n",
    "        print('Your l or b is 0 so this is not allowed')\n",
    "        return 0\n",
    "    else:\n",
    "        h = math.sqrt(1**2 + b**2)\n",
    "        return h"
   ]
  },
  {
   "cell_type": "code",
   "execution_count": 62,
   "id": "98bbec99-5f90-4b3f-97a1-8e60485f49db",
   "metadata": {
    "scrolled": true
   },
   "outputs": [
    {
     "name": "stdout",
     "output_type": "stream",
     "text": [
      "11.203850401888342\n"
     ]
    }
   ],
   "source": [
    "x = clr_area(1) + hyp(3,8)\n",
    "print(x)"
   ]
  },
  {
   "cell_type": "code",
   "execution_count": 63,
   "id": "070f7d9f-0e8d-4029-a4f4-455c44a9da37",
   "metadata": {},
   "outputs": [
    {
     "data": {
      "text/plain": [
       "9.055385138137417"
      ]
     },
     "execution_count": 63,
     "metadata": {},
     "output_type": "execute_result"
    }
   ],
   "source": [
    "hyp(4,9)"
   ]
  },
  {
   "cell_type": "code",
   "execution_count": 64,
   "id": "16e03982-7e6f-4c3b-b864-a4302442b19d",
   "metadata": {},
   "outputs": [
    {
     "name": "stdout",
     "output_type": "stream",
     "text": [
      "Radius must be positive\n",
      "0\n"
     ]
    }
   ],
   "source": [
    "y = clr_area(0)\n",
    "print(y)"
   ]
  },
  {
   "cell_type": "code",
   "execution_count": 65,
   "id": "0292a1c0-103e-4da3-89b3-7c91d8267487",
   "metadata": {},
   "outputs": [
    {
     "name": "stdout",
     "output_type": "stream",
     "text": [
      "78.53981633974483\n"
     ]
    }
   ],
   "source": [
    "ball_size = clr_area(5)\n",
    "print(ball_size)"
   ]
  },
  {
   "cell_type": "code",
   "execution_count": null,
   "id": "1e3770f8-6267-4673-9919-89be04e6dda7",
   "metadata": {},
   "outputs": [],
   "source": []
  }
 ],
 "metadata": {
  "kernelspec": {
   "display_name": "Python 3 (ipykernel)",
   "language": "python",
   "name": "python3"
  },
  "language_info": {
   "codemirror_mode": {
    "name": "ipython",
    "version": 3
   },
   "file_extension": ".py",
   "mimetype": "text/x-python",
   "name": "python",
   "nbconvert_exporter": "python",
   "pygments_lexer": "ipython3",
   "version": "3.12.4"
  }
 },
 "nbformat": 4,
 "nbformat_minor": 5
}
