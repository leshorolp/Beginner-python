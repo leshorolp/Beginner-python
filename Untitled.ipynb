{
 "cells": [
  {
   "cell_type": "code",
   "execution_count": 1,
   "id": "de5f8610-62b9-43cf-a618-67c63ae6cc6e",
   "metadata": {},
   "outputs": [
    {
     "name": "stdout",
     "output_type": "stream",
     "text": [
      "8\n",
      "2\n",
      "8\n"
     ]
    }
   ],
   "source": [
    "num1 = 3\n",
    "num2 = 5\n",
    "num3 = num2 + num1\n",
    "num2 %= num1\n",
    "dict_ = [5,6,7,8]\n",
    "num1 = dict_[2+1]\n",
    "print(num1)\n",
    "print(num2)\n",
    "print(num3)"
   ]
  },
  {
   "cell_type": "code",
   "execution_count": 12,
   "id": "3c5bc989-4a11-4355-b3fd-1388087ea635",
   "metadata": {},
   "outputs": [
    {
     "name": "stdout",
     "output_type": "stream",
     "text": [
      "give discount of 8\n"
     ]
    }
   ],
   "source": [
    "prod1 = 3\n",
    "prod2 = 5\n",
    "total = prod2 + prod1\n",
    "print(\"give discount of\", total)"
   ]
  },
  {
   "cell_type": "code",
   "execution_count": 10,
   "id": "e72781e6-d019-40fc-8f59-2bbacd7d6328",
   "metadata": {},
   "outputs": [
    {
     "name": "stdout",
     "output_type": "stream",
     "text": [
      "execute this\n",
      "life goes on\n"
     ]
    }
   ],
   "source": [
    "condition = True\n",
    "\n",
    "if condition: \n",
    "    print('execute this')\n",
    "print('life goes on')"
   ]
  },
  {
   "cell_type": "code",
   "execution_count": 8,
   "id": "5094e234-5500-45e4-8d9e-cc979ff146e8",
   "metadata": {},
   "outputs": [
    {
     "name": "stdout",
     "output_type": "stream",
     "text": [
      "Grade C\n"
     ]
    }
   ],
   "source": [
    "score = 75\n",
    "if score >= 90:\n",
    "    print(\"Grade A\")\n",
    "elif score >= 80:\n",
    "    print(\"Grade B\")\n",
    "elif score >= 70:\n",
    "    print(\"Grade C\")\n",
    "else:\n",
    "    print(\"Grade F\")"
   ]
  },
  {
   "cell_type": "code",
   "execution_count": 11,
   "id": "9e93db95-d879-4bb8-8b28-b60bbee619e6",
   "metadata": {},
   "outputs": [
    {
     "name": "stdout",
     "output_type": "stream",
     "text": [
      "life goes on\n"
     ]
    }
   ],
   "source": [
    "num1 = 3\n",
    "num2 = 5\n",
    "if num1 > num2:\n",
    "    print('execute this')\n",
    "    print('something else')\n",
    "print('life goes on')"
   ]
  },
  {
   "cell_type": "code",
   "execution_count": null,
   "id": "37bffa46-ff18-4a38-a478-392f1afb90c0",
   "metadata": {},
   "outputs": [],
   "source": []
  }
 ],
 "metadata": {
  "kernelspec": {
   "display_name": "Python 3 (ipykernel)",
   "language": "python",
   "name": "python3"
  },
  "language_info": {
   "codemirror_mode": {
    "name": "ipython",
    "version": 3
   },
   "file_extension": ".py",
   "mimetype": "text/x-python",
   "name": "python",
   "nbconvert_exporter": "python",
   "pygments_lexer": "ipython3",
   "version": "3.12.4"
  }
 },
 "nbformat": 4,
 "nbformat_minor": 5
}
