{
 "cells": [
  {
   "cell_type": "code",
   "execution_count": null,
   "id": "6dc7f9ba-b601-43f8-8415-d290ecbc0dde",
   "metadata": {},
   "outputs": [],
   "source": [
    "for i in range(6):\n",
    "    #print(\"I'm here\")\n",
    "    if i > 3:\n",
    "        continue\n",
    "    print(i)"
   ]
  },
  {
   "cell_type": "code",
   "execution_count": null,
   "id": "061db6bf-75e2-4d9e-88cd-b9a6eb4b1bbf",
   "metadata": {},
   "outputs": [],
   "source": [
    "#The continue keyword in Python is used to skip the current iteration of a loop and proceed to the next iteration. It is commonly used within for and while loops to control the flow of the loop.\n",
    "#Example with for Loop\n",
    "#Continue: Skips only the current iteration and moves to the next iteration of the loop.\n",
    "for i in range(9):\n",
    "    if i == 10:\n",
    "        continue\n",
    "    print(i)"
   ]
  },
  {
   "cell_type": "code",
   "execution_count": null,
   "id": "13df4e2d-cf93-46e5-82fd-59681a0b7f79",
   "metadata": {},
   "outputs": [],
   "source": [
    "for i in range(6):\n",
    "    print(\"I'm here\")\n",
    "    if i > 3:\n",
    "        break\n",
    "    print(i)\n",
    "#Break: Stops the entire loop immediately and moves to the code after the loop.\n",
    "#Think of eating grapes from a bunch:\n",
    "#Break: You find a rotten grape and decide to stop eating entirely\n",
    "#Continue: You find a rotten grape, so you skip it but keep eating the rest"
   ]
  },
  {
   "cell_type": "code",
   "execution_count": null,
   "id": "26e7bd94-4fd2-43ea-81b9-149520d7d3d7",
   "metadata": {},
   "outputs": [],
   "source": [
    "name = 'Paul'\n",
    "while name == 'Paul':\n",
    "    print(name)\n",
    "    break"
   ]
  },
  {
   "cell_type": "code",
   "execution_count": null,
   "id": "8b3ce3a9-3336-44d5-a510-62c164e950b5",
   "metadata": {},
   "outputs": [],
   "source": [
    "while True:  # This creates the infinite loop\n",
    "    command = input(\"Enter a command (type 'quit' to stop): \")\n",
    "    if command.lower() == 'quit':\n",
    "        print(\"Stopping the program. Goodbye!\")\n",
    "        break  # This exits the loop immediately\n",
    "    print(f\"You executed: {command}\")\n",
    "# The program continues here after the break"
   ]
  },
  {
   "cell_type": "code",
   "execution_count": 3,
   "id": "71234744-ca26-4775-8dc6-022a3190e20f",
   "metadata": {},
   "outputs": [
    {
     "name": "stdin",
     "output_type": "stream",
     "text": [
      "Say something (type 'quit' to stop):  quit\n"
     ]
    },
    {
     "name": "stdout",
     "output_type": "stream",
     "text": [
      "Loop ended safely.\n"
     ]
    }
   ],
   "source": [
    "# Use a variable to control the loop. This structure is much clearer.\n",
    "keep_running = True\n",
    "\n",
    "while keep_running:\n",
    "    user_input = input(\"Say something (type 'quit' to stop): \")\n",
    "    if user_input == 'quit':\n",
    "        keep_running = False  # This changes the condition for the next iteration\n",
    "    else:\n",
    "        print(f\"You said: {user_input}\")\n",
    "\n",
    "print(\"Loop ended safely.\")"
   ]
  },
  {
   "cell_type": "code",
   "execution_count": 4,
   "id": "40fe7a83-8186-42f1-a521-89c8b0092ea6",
   "metadata": {},
   "outputs": [
    {
     "name": "stdout",
     "output_type": "stream",
     "text": [
      "0\n",
      "2\n",
      "4\n"
     ]
    }
   ],
   "source": [
    "i = 0\n",
    "while i< 5:\n",
    "    print(i)\n",
    "    i += 2"
   ]
  },
  {
   "cell_type": "code",
   "execution_count": null,
   "id": "97ae7f4b-20af-4eac-97f0-6d89f734b39e",
   "metadata": {},
   "outputs": [],
   "source": []
  }
 ],
 "metadata": {
  "kernelspec": {
   "display_name": "Python 3 (ipykernel)",
   "language": "python",
   "name": "python3"
  },
  "language_info": {
   "codemirror_mode": {
    "name": "ipython",
    "version": 3
   },
   "file_extension": ".py",
   "mimetype": "text/x-python",
   "name": "python",
   "nbconvert_exporter": "python",
   "pygments_lexer": "ipython3",
   "version": "3.12.4"
  }
 },
 "nbformat": 4,
 "nbformat_minor": 5
}
