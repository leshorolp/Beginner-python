{
 "cells": [
  {
   "cell_type": "markdown",
   "id": "b87ac63f-2a1a-4f97-94af-dd515473f79e",
   "metadata": {},
   "source": [
    "What is a Lambda Function?\n",
    "\n",
    "A lambda is simply a way to define a function in Python. They are sometimes known as lambda operators or lambda functions. By now you probably have defined your functions using the def keyword, and it has worked well for you so far. So why is there another way to do the same thing?\n",
    "\n",
    "The difference is that lambda functions are anonymous. Meaning, they are functions that do not need to be named. They are used to create small one-line functions in cases where a normal function would be an overkill.\n",
    "\n",
    "image.png\n",
    "\n",
    "Here’s how it looks as a lambda function:\n",
    "\n",
    "doubler = lambda x: x*2\n",
    "print(doubler(2))\n",
    "print(doubler(5))\n",
    "\n",
    "f = lambda a: a*a"
   ]
  },
  {
   "cell_type": "code",
   "execution_count": 1,
   "id": "333f4351-9e5c-4d7f-afe0-800dab3e1a96",
   "metadata": {},
   "outputs": [
    {
     "name": "stdout",
     "output_type": "stream",
     "text": [
      "4\n",
      "10\n"
     ]
    }
   ],
   "source": [
    "doubler = lambda x: x*2\n",
    "print(doubler(2))\n",
    "print(doubler(5))"
   ]
  },
  {
   "cell_type": "code",
   "execution_count": 6,
   "id": "770b167e-ace1-4abf-9934-df03fc1fffd3",
   "metadata": {},
   "outputs": [],
   "source": [
    "def par1(l, b):\n",
    "    return 2*l+2*b\n",
    "    \n",
    "par2 = lambda l,b: 2*l + 2*b"
   ]
  },
  {
   "cell_type": "code",
   "execution_count": 7,
   "id": "49eb8798-0668-4112-8986-3896eade481a",
   "metadata": {},
   "outputs": [
    {
     "data": {
      "text/plain": [
       "18"
      ]
     },
     "execution_count": 7,
     "metadata": {},
     "output_type": "execute_result"
    }
   ],
   "source": [
    "par1(5, 4)"
   ]
  },
  {
   "cell_type": "code",
   "execution_count": 8,
   "id": "3e8f2c68-3c57-4e69-b4be-ea8b093a0aca",
   "metadata": {},
   "outputs": [
    {
     "data": {
      "text/plain": [
       "18"
      ]
     },
     "execution_count": 8,
     "metadata": {},
     "output_type": "execute_result"
    }
   ],
   "source": [
    "par2(5,4)"
   ]
  },
  {
   "cell_type": "code",
   "execution_count": 10,
   "id": "b5843642-a1ba-4af1-9ccc-38869b178cb3",
   "metadata": {},
   "outputs": [],
   "source": [
    "add = lambda x, y, z: x+y+z"
   ]
  },
  {
   "cell_type": "code",
   "execution_count": 12,
   "id": "5eb0e79f-4111-41ff-bd53-45026122fceb",
   "metadata": {},
   "outputs": [
    {
     "data": {
      "text/plain": [
       "11"
      ]
     },
     "execution_count": 12,
     "metadata": {},
     "output_type": "execute_result"
    }
   ],
   "source": [
    "add(2,3,6)"
   ]
  },
  {
   "cell_type": "code",
   "execution_count": 13,
   "id": "49eb512b-b4fd-4062-84bc-136315597798",
   "metadata": {},
   "outputs": [],
   "source": [
    "area = lambda l,b: l*b"
   ]
  },
  {
   "cell_type": "code",
   "execution_count": 14,
   "id": "53900306-6a62-474e-8251-22d57111d0c6",
   "metadata": {},
   "outputs": [
    {
     "data": {
      "text/plain": [
       "10"
      ]
     },
     "execution_count": 14,
     "metadata": {},
     "output_type": "execute_result"
    }
   ],
   "source": [
    "area(2,5)"
   ]
  },
  {
   "cell_type": "code",
   "execution_count": 16,
   "id": "8b83bebe-6365-4521-bf93-8e3e11bb7887",
   "metadata": {},
   "outputs": [
    {
     "name": "stdout",
     "output_type": "stream",
     "text": [
      "25\n",
      "125\n"
     ]
    }
   ],
   "source": [
    "findSquareCube = lambda num: (num**2, num**3) # the different return values aare separated with a comma ,\n",
    "x, y = findSquareCube(5)\n",
    "print(x) # returns the first value of the lambda function\n",
    "print(y) # returns the second value of the lambda function"
   ]
  },
  {
   "cell_type": "code",
   "execution_count": 18,
   "id": "df853b74-3bc2-4d8c-b784-20aab4a9a9c9",
   "metadata": {},
   "outputs": [],
   "source": [
    "def check(n):\n",
    "    if n % 2 == 0:\n",
    "        return \"yes\"\n",
    "    else:\n",
    "        return \"no\""
   ]
  },
  {
   "cell_type": "code",
   "execution_count": 19,
   "id": "402b228b-db77-4ebe-9a27-da781ec26170",
   "metadata": {},
   "outputs": [
    {
     "data": {
      "text/plain": [
       "'yes'"
      ]
     },
     "execution_count": 19,
     "metadata": {},
     "output_type": "execute_result"
    }
   ],
   "source": [
    "check(4)"
   ]
  },
  {
   "cell_type": "code",
   "execution_count": 21,
   "id": "ff2bf2de-e303-44fa-ab30-9bc00d7b6159",
   "metadata": {},
   "outputs": [],
   "source": [
    "check1= lambda n: \"yes\" if n%2==0 else \"no\""
   ]
  },
  {
   "cell_type": "code",
   "execution_count": 27,
   "id": "7c3ddfad-8a34-4fab-89dc-5e3627f96dfa",
   "metadata": {},
   "outputs": [
    {
     "data": {
      "text/plain": [
       "'no'"
      ]
     },
     "execution_count": 27,
     "metadata": {},
     "output_type": "execute_result"
    }
   ],
   "source": [
    "check1(7)"
   ]
  },
  {
   "cell_type": "code",
   "execution_count": 28,
   "id": "ed061862-eb0b-4639-9cc4-fa654883c39d",
   "metadata": {},
   "outputs": [
    {
     "data": {
      "text/plain": [
       "'yes'"
      ]
     },
     "execution_count": 28,
     "metadata": {},
     "output_type": "execute_result"
    }
   ],
   "source": [
    "check(10)"
   ]
  },
  {
   "cell_type": "code",
   "execution_count": 29,
   "id": "25c92806-234c-4e32-85b3-d248aba11aae",
   "metadata": {},
   "outputs": [
    {
     "data": {
      "text/plain": [
       "'yes'"
      ]
     },
     "execution_count": 29,
     "metadata": {},
     "output_type": "execute_result"
    }
   ],
   "source": [
    "check(-0)"
   ]
  },
  {
   "cell_type": "code",
   "execution_count": 46,
   "id": "5c14f8ea-d7d9-4a63-86f7-1fa27a5fac28",
   "metadata": {},
   "outputs": [
    {
     "data": {
      "text/plain": [
       "6.0"
      ]
     },
     "execution_count": 46,
     "metadata": {},
     "output_type": "execute_result"
    }
   ],
   "source": [
    "n = lambda h: (h*2 if h < 5 else h/2 , h*3 if h < 5 else h/2)\n",
    "x, y = n(6) \n",
    "y += x\n",
    "\n",
    "y"
   ]
  },
  {
   "cell_type": "code",
   "execution_count": 47,
   "id": "40f49c09-3e2e-49b7-809a-f9459f3b2b49",
   "metadata": {},
   "outputs": [
    {
     "name": "stdout",
     "output_type": "stream",
     "text": [
      "[2, 4, 6, 8, 10]\n"
     ]
    }
   ],
   "source": [
    "numbers = [1, 2, 3, 4, 5, 6, 7, 8, 9, 10]\n",
    "even_numbers = list(filter(lambda x: x % 2 == 0, numbers))\n",
    "print(even_numbers)  # Output: [2, 4, 6, 8, 10]"
   ]
  },
  {
   "cell_type": "code",
   "execution_count": null,
   "id": "cd521989-839b-4428-a735-bae7b98c69d0",
   "metadata": {},
   "outputs": [],
   "source": []
  }
 ],
 "metadata": {
  "kernelspec": {
   "display_name": "Python 3 (ipykernel)",
   "language": "python",
   "name": "python3"
  },
  "language_info": {
   "codemirror_mode": {
    "name": "ipython",
    "version": 3
   },
   "file_extension": ".py",
   "mimetype": "text/x-python",
   "name": "python",
   "nbconvert_exporter": "python",
   "pygments_lexer": "ipython3",
   "version": "3.12.4"
  }
 },
 "nbformat": 4,
 "nbformat_minor": 5
}
