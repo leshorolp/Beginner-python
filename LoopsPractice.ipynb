{
  "metadata": {
    "kernelspec": {
      "name": "python",
      "display_name": "Python (Pyodide)",
      "language": "python"
    },
    "language_info": {
      "codemirror_mode": {
        "name": "python",
        "version": 3
      },
      "file_extension": ".py",
      "mimetype": "text/x-python",
      "name": "python",
      "nbconvert_exporter": "python",
      "pygments_lexer": "ipython3",
      "version": "3.8"
    }
  },
  "nbformat_minor": 5,
  "nbformat": 4,
  "cells": [
    {
      "id": "a9c031c0-dc4c-4630-abc6-a61e16cccdd1",
      "cell_type": "code",
      "source": "x = 25\ny = 8 \nz = 10\n\nif x > 20 and y < z:\n    z += 5               #z=15\nelif x < 30 or y > z:\n    y *= 2\n\nif z > 15: \n    x -= 5\nelse:\n    y += 5          #y=13\n\nif x == y:\n    print(\"Prime\")\nelif x > y:\n    print(\"Netflix\")   #Netflix\nelse:\n    print(\"Disney\") ",
      "metadata": {
        "trusted": true
      },
      "outputs": [
        {
          "name": "stdout",
          "output_type": "stream",
          "text": "Netflix\n"
        }
      ],
      "execution_count": 1
    },
    {
      "id": "c7b50fcf-6b97-44fe-a34b-04b61a54caca",
      "cell_type": "code",
      "source": "numbers = [1, 2, 3, 4, 5, 6, 7, 8, 9, 10]\nresult = []\nfor num in numbers:\n    if num % 3 == 0:\n        continue\n    if num > 7:\n        break\n    result.append(num * 2)\nprint(result) #result = [6,12]",
      "metadata": {
        "trusted": true
      },
      "outputs": [
        {
          "name": "stdout",
          "output_type": "stream",
          "text": "[2, 4, 8, 10, 14]\n"
        }
      ],
      "execution_count": 2
    },
    {
      "id": "b9c6457f-61e9-47b3-8b13-2d837a66b422",
      "cell_type": "code",
      "source": "days = ['Mon', 'Tue', 'Wed', 'Thu', 'Fri']\nword = \" \"\nfor i in range(5):\n    word += days[i][i%3]\nprint(word)",
      "metadata": {
        "trusted": true
      },
      "outputs": [
        {
          "name": "stdout",
          "output_type": "stream",
          "text": " MudTr\n"
        }
      ],
      "execution_count": 10
    },
    {
      "id": "982ec7c6-aadf-4388-893d-9873d7fc9f9e",
      "cell_type": "markdown",
      "source": "Range:\n- i = 0:   days[0][0%3] >> days[0][0] >> M\n- i = 1:   days[1][1%3] >> days[1][1] >> u\n- i = 2:   days[2][2%3] >> days[2][2] >> d\n- i = 3:   days[3][3%3] >> days[3][0] >> T\n- i = 4:   days[4][4%3] >> days[4][1] >> r\n\nword = MudT",
      "metadata": {}
    },
    {
      "id": "d194ba9d-cd51-4504-9f7d-dadc8e87bce7",
      "cell_type": "code",
      "source": "# ### Exercise 1 (Easy)\n\n# In[1]:\n\n\nnumbers = [1, 2, 3, 4, 5]\nresult = []\nfor num in numbers:\n    if num % 2 == 0:\n        result.append(num * 2)\nprint(result)  # What's the output?",
      "metadata": {
        "trusted": true
      },
      "outputs": [],
      "execution_count": null
    },
    {
      "id": "884c9af0-b277-455e-878e-c7ca06b77766",
      "cell_type": "code",
      "source": "# ### Exercise 2 (Easy)\n\n# In[2]:\n\n\nx = 10\ny = 5\nif x > y:\n    print(\"A\")\nelif x == y:\n    print(\"B\")\nelse:\n    print(\"C\")  # What's printed?",
      "metadata": {
        "trusted": true
      },
      "outputs": [],
      "execution_count": null
    },
    {
      "id": "c0818dde-d585-4b52-844e-e4872540992c",
      "cell_type": "code",
      "source": "# ### Exercise 3 (Easy)\n\n# In[3]:\n\n\nresult = 0\nfor i in range(1, 6):\n    result += i\nprint(result)  # What's the output?",
      "metadata": {
        "trusted": true
      },
      "outputs": [],
      "execution_count": null
    },
    {
      "id": "18a17bcb-e579-438c-ba8a-88409b3a6564",
      "cell_type": "code",
      "source": "# ### Exercise 4 (Medium)\n\n# In[4]:\n\n\nnumbers = [1, 2, 3, 4, 5, 6, 7, 8, 9, 10]\nresult = []\nfor num in numbers:\n    if num % 3 == 0:\n        continue\n    if num > 7:\n        break\n    result.append(num * 2)\nprint(result)  # What's the output?",
      "metadata": {
        "trusted": true
      },
      "outputs": [],
      "execution_count": null
    },
    {
      "id": "55cee5cb-7831-4280-9c7d-8b03a41901c4",
      "cell_type": "code",
      "source": "# ### Exercise 5 (Medium)\n\n# In[5]:\n\n\nx = 15\ny = 8\nz = 12\n\nif x > 10 and y < 10:\n    z -= 3\nelif x < 20 or y > 5:\n    z += 2\nelse:\n    z *= 2\n\nif z % 2 == 0:\n    print(\"Even\")\nelse:\n    print(\"Odd\")  # What's printed?\n",
      "metadata": {
        "trusted": true
      },
      "outputs": [],
      "execution_count": null
    },
    {
      "id": "975092f5-ebf3-4e2f-aff9-f44d103515d1",
      "cell_type": "code",
      "source": "# ### Exercise 6 (Medium)\n\n# In[6]:\n\n\nresult = []\nfor i in range(10):\n    if i % 2 == 0:\n        result.append(i)\n    elif i % 3 == 0:\n        result.append(i * 2)\n    else:\n        continue\nprint(result)  # What's the output?",
      "metadata": {
        "trusted": true
      },
      "outputs": [],
      "execution_count": null
    },
    {
      "id": "f4557cd3-ed44-47d9-a64a-f04ed655804e",
      "cell_type": "code",
      "source": "# ### Exercise 7 (Medium)\n\n# In[7]:\n\n\nnumbers = [2, 4, 6, 8, 10, 12, 14]\ntotal = 0\ncount = 0\n\nfor num in numbers:\n    if num > 8:\n        break\n    total += num\n    count += 1\n\naverage = total / count if count > 0 else 0\nprint(average)  # What's the output?",
      "metadata": {
        "trusted": true
      },
      "outputs": [],
      "execution_count": null
    },
    {
      "id": "66b7408b-e767-4f95-85be-bb079ac0932b",
      "cell_type": "code",
      "source": "# ### Exercise 8 (Medium-Hard)\n\n# In[8]:\n\n\nx = 25\ny = 8 \nz = 10\n\nif x > 20 and y < z:\n    z += 5\nelif x < 30 or y > z:\n    y *= 2\n\nif z > 15: \n    x -= 5\nelse:\n    y += 5\n\nif x == y:\n    print(\"Prime\")\nelif x > y:\n    print(\"Netflix\")\nelse:\n    print(\"Disney\")  # What's printed?",
      "metadata": {
        "trusted": true
      },
      "outputs": [],
      "execution_count": null
    },
    {
      "id": "829b60ef-641c-4403-874b-423338d14bea",
      "cell_type": "code",
      "source": "# ### Exercise 9 (Medium-Hard)\n\n# In[9]:\n\n\nresult = []\nfor i in range(1, 16):\n    if i % 4 == 0:\n        continue\n    if i % 7 == 0:\n        break\n    if i % 2 == 0:\n        result.append(i // 2)\n    else:\n        result.append(i * 2)\nprint(result)  # What's the output?",
      "metadata": {
        "trusted": true
      },
      "outputs": [],
      "execution_count": null
    },
    {
      "id": "f65db76f-6b76-4213-954b-a8bdc822bf17",
      "cell_type": "code",
      "source": "# ### Exercise 10 (Hard)\n\n# In[10]:\n\n\na = 5\nb = 3\nc = 7\n\nif a > b:\n    if b < c:\n        a = c - b\n    else:\n        b = a + c\nelif a == b:\n    c = a * b\nelse:\n    if c > a:\n        b = c % a\n    else:\n        a = b % c\n\nresult = a + b + c\nprint(result)  # What's the output?",
      "metadata": {
        "trusted": true
      },
      "outputs": [],
      "execution_count": null
    },
    {
      "id": "40e26ce1-3e18-4c3b-bb47-9152aeb38751",
      "cell_type": "code",
      "source": "# ### Exercise 11 (Hard)\n\n# In[11]:\n\n\nnumbers = [3, 7, 2, 9, 5, 1, 8, 4, 6]\nresult = 0\n\nfor num in numbers:\n    if num % 2 == 0:\n        result += num\n        if result > 15:\n            break\n    else:\n        if num > 5:\n            continue\n        result -= num\n\nprint(result)  # What's the output?",
      "metadata": {
        "trusted": true
      },
      "outputs": [],
      "execution_count": null
    },
    {
      "id": "ff1113a8-0e3a-4b5d-be36-ed5fabe4547d",
      "cell_type": "code",
      "source": "# ### Exercise 12 (Hard)\n\n# In[12]:\n\n\nx = 12\ny = 8\nz = 15\n\nif (x > y and y < z) or (x < z and z > y):\n    x = y + z\n    if x % 2 == 0:\n        y = x // 2\n    else:\n        z = x % 2\nelif x == y or y == z:\n    z = x * y\nelse:\n    y = x - z\n\nresult = x + y - z\nprint(result)  # What's the output?\n",
      "metadata": {
        "trusted": true
      },
      "outputs": [],
      "execution_count": null
    },
    {
      "id": "560332b5-9181-478c-9c21-dc60628e79f4",
      "cell_type": "code",
      "source": "# ### Exercise 13 (Very Hard)\n\n# In[13]:\n\n\nnumbers = [2, 5, 8, 3, 7, 1, 9, 4, 6]\nresult = []\ntemp = 0\n\nfor i, num in enumerate(numbers):\n    if i % 2 == 0:\n        temp += num\n        if temp > 10:\n            result.append(temp)\n            temp = 0\n    else:\n        if num % 2 == 0:\n            result.append(num)\n        else:\n            temp -= num\n            if temp < 0:\n                break\n\nprint(result)  # What's the output?",
      "metadata": {
        "trusted": true
      },
      "outputs": [],
      "execution_count": null
    },
    {
      "id": "e891474d-5010-4fa2-b6c9-a214b4aa9252",
      "cell_type": "code",
      "source": " ### Exercise 14 (Very Hard)\n\n# In[14]:\n\n\nx = 20\ny = 12\nz = 8\n\nif x > 15:\n    if y < 10:\n        z = x - y\n        if z % 2 == 0:\n            x = z // 2\n        else:\n            y = z * 2\n    elif y > 15:\n        z = x + y\n    else:\n        if x % y == 0:\n            z = x // y\n        else:\n            z = y // x\nelse:\n    if z > 5:\n        x = y + z\n    else:\n        y = x + z\n\nresult = (x * y) - z\nprint(result)  # What's the output?",
      "metadata": {
        "trusted": true
      },
      "outputs": [],
      "execution_count": null
    },
    {
      "id": "e2f21ab8-43ae-44ec-9eb6-7c6b697a9a9d",
      "cell_type": "code",
      "source": "# ### Exercise 15 (Expert)\n\n# In[15]:\n\n\nnumbers = [4, 7, 2, 9, 5, 1, 8, 3, 6]\nresult = 0\nskip_next = False\n\nfor i in range(len(numbers)):\n    if skip_next:\n        skip_next = False\n        continue\n        \n    current = numbers[i]\n    \n    if current % 2 == 0:\n        result += current\n        if i + 1 < len(numbers):\n            skip_next = True\n    else:\n        if current > 5:\n            result -= current\n            if result < 0:\n                break\n        else:\n            result += current * 2\n    \n    if result > 20:\n        result = result % 10\n\nprint(result)  # What's the output?",
      "metadata": {
        "trusted": true
      },
      "outputs": [],
      "execution_count": null
    },
    {
      "id": "88dbaa4f-6a48-4ceb-9c0d-4609b70b6e86",
      "cell_type": "markdown",
      "source": "# ## Answers\n# 1. `[4, 8]`  \n# 2. `A`  \n# 3. `15`  \n# 4. `[2, 4, 8, 10, 14]`  \n# 5. `Even`  \n# 6. `[0, 2, 4, 6, 8]`  \n# 7. `5.0`  \n# 8. `Netflix`  \n# 9. `[2, 1, 6, 10, 3, 14, 5]`  \n# 10. `14`  \n# 11. `6`  \n# 12. `19`  \n# 13. `[10, 8, 4]`  \n# 14. `132`  \n# 15. `7`",
      "metadata": {}
    },
    {
      "id": "a3959e3d-f94d-4bff-b3b1-2e69b9802ae9",
      "cell_type": "code",
      "source": "",
      "metadata": {
        "trusted": true
      },
      "outputs": [],
      "execution_count": null
    }
  ]
}