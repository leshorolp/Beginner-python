{
  "metadata": {
    "kernelspec": {
      "name": "python",
      "display_name": "Python (Pyodide)",
      "language": "python"
    },
    "language_info": {
      "codemirror_mode": {
        "name": "python",
        "version": 3
      },
      "file_extension": ".py",
      "mimetype": "text/x-python",
      "name": "python",
      "nbconvert_exporter": "python",
      "pygments_lexer": "ipython3",
      "version": "3.8"
    }
  },
  "nbformat_minor": 5,
  "nbformat": 4,
  "cells": [
    {
      "id": "73a06a86-745f-48d3-99bb-2575853285c7",
      "cell_type": "code",
      "source": "# Function to print the royal proclamation\ndef proclaim_kingship():\n    # Get user input\n    name = input(\"Enter the royal name: \")   #hint:he is the smartest man in the room\n    domain = input(\"Enter the domain of rulership: \") #hint:synonymous with earth\n    \n    # Conditional statements to determine the appropriate proclamation\n    if name.lower() == \"kwaps\" and domain.lower() == \"the world\":\n        return f\"{name} is the KING OF {domain.upper()}!!\"\n    elif name.lower() == \"kwaps\":\n        return f\"{name} is the KING OF {domain.upper()}! (But should be king of the world!)\"\n    else:\n        return f\"All hail {name}, ruler of {domain}! But Kwaps is still the KING OF THE WORLD!!\"\n\n# Function to check if Kwaps is indeed the king\ndef verify_kingship():\n    answer = input(\"Is Kwaps the king of the world? (yes/no): \").lower()\n    \n    if answer == \"yes\":\n        return \"You speak the truth! Kwaps is the KING OF THE WORLD!!\"\n    elif answer == \"no\":\n        return \"Heresy! Kwaps is undeniably the KING OF THE WORLD!!\"\n    else:\n        return \"Your answer is unclear, but the truth remains: Kwaps is the KING OF THE WORLD!!\"\n\n# Main function to orchestrate the proclamation\ndef main():\n    print(\"=== ROYAL PROCLAMATION SYSTEM ===\")\n    print(proclaim_kingship())\n    print(\"\\n=== VERIFICATION PROCESS ===\")\n    print(verify_kingship())\n    print(\"\\n=== FINAL DECLARATION ===\")\n    print(\"KWAPS IS THE KING OF THE WORLD!!\")\n\n# Execute the program\nif __name__ == \"__main__\":\n    main()",
      "metadata": {
        "trusted": true
      },
      "outputs": [
        {
          "name": "stdout",
          "output_type": "stream",
          "text": "=== ROYAL PROCLAMATION SYSTEM ===\n"
        },
        {
          "output_type": "stream",
          "name": "stdin",
          "text": "Enter the royal name:  Kwaps\nEnter the domain of rulership:  The world\n"
        },
        {
          "name": "stdout",
          "output_type": "stream",
          "text": "Kwaps is the KING OF THE WORLD!!\n\n=== VERIFICATION PROCESS ===\n"
        },
        {
          "output_type": "stream",
          "name": "stdin",
          "text": "Is Kwaps the king of the world? (yes/no):  no\n"
        },
        {
          "name": "stdout",
          "output_type": "stream",
          "text": "Heresy! Kwaps is undeniably the KING OF THE WORLD!!\n\n=== FINAL DECLARATION ===\nKWAPS IS THE KING OF THE WORLD!!\n"
        }
      ],
      "execution_count": 1
    },
    {
      "id": "b731a422-ed41-46a9-ae8a-eabd9f62a5f1",
      "cell_type": "code",
      "source": "# Exercise 1: Basic Eligibility Check (Easy)\n# Create a function that checks if a person is eligible to vote (18+ years old)\ndef check_voting_eligibility():\n    name = input(\"Enter your name: \")\n    age = int(input(\"Enter your age: \"))\n    \n    if age >= 18:\n        return f\"Dear {name}, you are eligible to vote.\"\n    else:\n        return f\"Dear {name}, you are not eligible to vote yet.\"\n\nprint(check_voting_eligibility())",
      "metadata": {
        "trusted": true
      },
      "outputs": [
        {
          "output_type": "stream",
          "name": "stdin",
          "text": "Enter your name:  hloni\nEnter your age:  24\n"
        },
        {
          "name": "stdout",
          "output_type": "stream",
          "text": "Dear hloni, you are eligible to vote.\n"
        }
      ],
      "execution_count": 4
    },
    {
      "id": "e62a8666-8466-4c1c-b1c8-965dc38f3deb",
      "cell_type": "code",
      "source": "# Exercise 2: Number Classification (Easy)\n# Write a function that classifies a number as positive, negative, or zero\ndef classify_number():\n    num = float(input(\"Enter a number: \"))\n    \n    if num > 0:\n        return \"Positive number\"\n    elif num < 0:\n        return \"Negative number\"\n    else:\n        return \"Zero\"\n\n print(classify_number())",
      "metadata": {
        "trusted": true
      },
      "outputs": [],
      "execution_count": null
    },
    {
      "id": "2c16f8ee-72eb-49e3-9596-b507e63e0aa5",
      "cell_type": "code",
      "source": "# Exercise 3: Simple Calculator (Easy)\n# Create a calculator function that performs basic operations\ndef simple_calculator():\n    num1 = float(input(\"Enter first number: \"))\n    num2 = float(input(\"Enter second number: \"))\n    operation = input(\"Enter operation (+, -, *, /): \")\n    \n    if operation == '+':\n        result = num1 + num2\n    elif operation == '-':\n        result = num1 - num2\n    elif operation == '*':\n        result = num1 * num2\n    elif operation == '/':\n        if num2 != 0:\n            result = num1 / num2\n        else:\n            return \"Error: Division by zero!\"\n    else:\n        return \"Invalid operation!\"\n    \n    return f\"Result: {result}\"\n\nprint(simple_calculator())",
      "metadata": {
        "trusted": true
      },
      "outputs": [],
      "execution_count": null
    },
    {
      "id": "d3450ce2-0c07-4c26-8ab3-4f82faac781d",
      "cell_type": "code",
      "source": "# Exercise 4: Temperature Converter (Easy)\n# Write a function that converts temperature between Celsius and Fahrenheit\ndef temperature_converter():\n    temp = float(input(\"Enter temperature: \"))\n    unit = input(\"Enter unit (C for Celsius, F for Fahrenheit): \").upper()\n    \n    if unit == 'C':\n        converted = (temp * 9/5) + 32\n        return f\"{temp}°C is {converted}°F\"\n    elif unit == 'F':\n        converted = (temp - 32) * 5/9\n        return f\"{temp}°F is {converted}°C\"\n    else:\n        return \"Invalid unit!\"\n\nprint(temperature_converter())",
      "metadata": {
        "trusted": true
      },
      "outputs": [],
      "execution_count": null
    },
    {
      "id": "2d9c5ded-9556-4b13-aef4-f85011c98802",
      "cell_type": "code",
      "source": "# Exercise 5: Grade Calculator (Medium)\n# Create a function that calculates a grade based on score\ndef calculate_grade():\n    score = float(input(\"Enter your score (0-100): \"))\n    \n    if 90 <= score <= 100:\n        grade = 'A'\n    elif 80 <= score < 90:\n        grade = 'B'\n    elif 70 <= score < 80:\n        grade = 'C'\n    elif 60 <= score < 70:\n        grade = 'D'\n    elif 0 <= score < 60:\n        grade = 'F'\n    else:\n        return \"Invalid score!\"\n    \n    return f\"Your grade is: {grade}\"\n\nprint(calculate_grade())",
      "metadata": {
        "trusted": true
      },
      "outputs": [],
      "execution_count": null
    },
    {
      "id": "6b595d40-007f-429a-83cb-50991d98cbb5",
      "cell_type": "code",
      "source": "# Exercise 6: Leap Year Checker (Medium)\n# Write a function that checks if a year is a leap year\ndef is_leap_year():\n    year = int(input(\"Enter a year: \"))\n    \n    if (year % 4 == 0 and year % 100 != 0) or (year % 400 == 0):\n        return f\"{year} is a leap year.\"\n    else:\n        return f\"{year} is not a leap year.\"\n\nprint(is_leap_year())",
      "metadata": {
        "trusted": true
      },
      "outputs": [],
      "execution_count": null
    },
    {
      "id": "ee0226f8-9391-4661-838a-7618c97a7ab2",
      "cell_type": "code",
      "source": "# Exercise 7: BMI Calculator (Medium)\n# Create a function that calculates BMI and categorizes it\ndef calculate_bmi():\n    weight = float(input(\"Enter your weight in kg: \"))\n    height = float(input(\"Enter your height in meters: \"))\n    \n    bmi = weight / (height ** 2)\n    \n    if bmi < 18.5:\n        category = \"Underweight\"\n    elif 18.5 <= bmi < 25:\n        category = \"Normal weight\"\n    elif 25 <= bmi < 30:\n        category = \"Overweight\"\n    else:\n        category = \"Obese\"\n    \n    return f\"Your BMI is {bmi:.2f}, which is categorized as {category}.\"\n\nprint(calculate_bmi())",
      "metadata": {
        "trusted": true
      },
      "outputs": [],
      "execution_count": null
    },
    {
      "id": "0d16cc4d-9f97-4325-9811-df175c78593a",
      "cell_type": "code",
      "source": "# Exercise 8: Quadratic Equation Solver (Medium)\n# Write a function that solves quadratic equations (ax² + bx + c = 0)\ndef solve_quadratic():\n    a = float(input(\"Enter coefficient a: \"))\n    b = float(input(\"Enter coefficient b: \"))\n    c = float(input(\"Enter coefficient c: \"))\n    \n    discriminant = b**2 - 4*a*c\n    \n    if discriminant > 0:\n        root1 = (-b + discriminant**0.5) / (2*a)\n        root2 = (-b - discriminant**0.5) / (2*a)\n        return f\"Two distinct real roots: {root1:.2f} and {root2:.2f}\"\n    elif discriminant == 0:\n        root = -b / (2*a)\n        return f\"One real root: {root:.2f}\"\n    else:\n        real_part = -b / (2*a)\n        imaginary_part = (-discriminant)**0.5 / (2*a)\n        return f\"Two complex roots: {real_part:.2f} + {imaginary_part:.2f}i and {real_part:.2f} - {imaginary_part:.2f}i\"\n\nprint(solve_quadratic())",
      "metadata": {
        "trusted": true
      },
      "outputs": [],
      "execution_count": null
    },
    {
      "id": "427dddf7-a53e-4f11-973e-d6f5d85e12c9",
      "cell_type": "code",
      "source": "# Exercise 9: Password Strength Checker (Medium)\n# Create a function that checks the strength of a password\ndef check_password_strength():\n    password = input(\"Enter your password: \")\n    \n    has_upper = any(char.isupper() for char in password)\n    has_lower = any(char.islower() for char in password)\n    has_digit = any(char.isdigit() for char in password)\n    has_special = any(not char.isalnum() for char in password)\n    length = len(password)\n    \n    strength = 0\n    feedback = []\n    \n    if length >= 8:\n        strength += 1\n    else:\n        feedback.append(\"Password should be at least 8 characters long.\")\n    \n    if has_upper:\n        strength += 1\n    else:\n        feedback.append(\"Password should contain at least one uppercase letter.\")\n    \n    if has_lower:\n        strength += 1\n    else:\n        feedback.append(\"Password should contain at least one lowercase letter.\")\n    \n    if has_digit:\n        strength += 1\n    else:\n        feedback.append(\"Password should contain at least one digit.\")\n    \n    if has_special:\n        strength += 1\n    else:\n        feedback.append(\"Password should contain at least one special character.\")\n    \n    if strength == 5:\n        return \"Strong password!\"\n    elif strength >= 3:\n        return f\"Medium strength password. Suggestions: {' '.join(feedback)}\"\n    else:\n        return f\"Weak password. Suggestions: {' '.join(feedback)}\"\n\nprint(check_password_strength())",
      "metadata": {
        "trusted": true
      },
      "outputs": [],
      "execution_count": null
    },
    {
      "id": "b97773c6-4348-4f5b-8d1b-12a62f9a017f",
      "cell_type": "code",
      "source": "# Exercise 10: Rock, Paper, Scissors Game (Medium)\n# Write a function that implements a simple Rock, Paper, Scissors game\nimport random\n\ndef rock_paper_scissors():\n    choices = ['rock', 'paper', 'scissors']\n    user_choice = input(\"Enter your choice (rock, paper, scissors): \").lower()\n    \n    if user_choice not in choices:\n        return \"Invalid choice!\"\n    \n    computer_choice = random.choice(choices)\n    \n    if user_choice == computer_choice:\n        return f\"Both chose {user_choice}. It's a tie!\"\n    elif (user_choice == 'rock' and computer_choice == 'scissors') or \\\n         (user_choice == 'paper' and computer_choice == 'rock') or \\\n         (user_choice == 'scissors' and computer_choice == 'paper'):\n        return f\"You chose {user_choice}, computer chose {computer_choice}. You win!\"\n    else:\n        return f\"You chose {user_choice}, computer chose {computer_choice}. Computer wins!\"\n\nprint(rock_paper_scissors())",
      "metadata": {
        "trusted": true
      },
      "outputs": [],
      "execution_count": null
    },
    {
      "id": "2b8b5823-18b5-46af-ad72-fce748c965af",
      "cell_type": "code",
      "source": "# Exercise 11: Tax Calculator (Hard)\n# Create a function that calculates income tax based on tax brackets\ndef calculate_income_tax():\n    income = float(input(\"Enter your annual income: \"))\n    \n    # Simplified tax brackets (these would need to be updated for real use)\n    if income <= 12500:\n        tax = 0\n    elif income <= 50000:\n        tax = (income - 12500) * 0.2\n    elif income <= 150000:\n        tax = (50000 - 12500) * 0.2 + (income - 50000) * 0.4\n    else:\n        tax = (50000 - 12500) * 0.2 + (150000 - 50000) * 0.4 + (income - 150000) * 0.45\n    \n    return f\"Your income tax is: £{tax:.2f}\"\n\nprint(calculate_income_tax())",
      "metadata": {
        "trusted": true
      },
      "outputs": [],
      "execution_count": null
    },
    {
      "id": "78eebf67-fefd-4546-af84-dc0ed92e8e2f",
      "cell_type": "code",
      "source": "# Exercise 12: Loan Eligibility Checker (Hard)\n# Write a function that checks loan eligibility based on multiple criteria\ndef check_loan_eligibility():\n    age = int(input(\"Enter your age: \"))\n    income = float(input(\"Enter your annual income: \"))\n    credit_score = int(input(\"Enter your credit score: \"))\n    employment_status = input(\"Enter your employment status (employed/unemployed): \").lower()\n    \n    eligible = True\n    reasons = []\n    \n    if age < 18 or age > 65:\n        eligible = False\n        reasons.append(\"Age must be between 18 and 65.\")\n    \n    if income < 30000:\n        eligible = False\n        reasons.append(\"Annual income must be at least £30,000.\")\n    \n    if credit_score < 600:\n        eligible = False\n        reasons.append(\"Credit score must be at least 600.\")\n    \n    if employment_status != 'employed':\n        eligible = False\n        reasons.append(\"Must be employed.\")\n    \n    if eligible:\n        return \"Congratulations! You are eligible for a loan.\"\n    else:\n        return f\"You are not eligible for a loan. Reasons: {' '.join(reasons)}\"\n\nprint(check_loan_eligibility())",
      "metadata": {
        "trusted": true
      },
      "outputs": [],
      "execution_count": null
    },
    {
      "id": "0e83108d-c069-47bb-b0e8-cc5f64973794",
      "cell_type": "code",
      "source": "# Exercise 13: Shipping Cost Calculator (Hard)\n# Create a function that calculates shipping cost based on weight, distance, and urgency\ndef calculate_shipping_cost():\n    weight = float(input(\"Enter package weight in kg: \"))\n    distance = float(input(\"Enter shipping distance in km: \"))\n    urgency = input(\"Enter urgency (standard/express): \").lower()\n    \n    base_cost = 5.0\n    weight_cost = max(0, weight - 1) * 2  # £2 per kg over 1kg\n    distance_cost = distance * 0.1  # £0.10 per km\n    \n    if urgency == 'express':\n        urgency_multiplier = 1.5\n    else:\n        urgency_multiplier = 1.0\n    \n    total_cost = (base_cost + weight_cost + distance_cost) * urgency_multiplier\n    \n    return f\"Your shipping cost is: £{total_cost:.2f}\"\n\nprint(calculate_shipping_cost())",
      "metadata": {
        "trusted": true
      },
      "outputs": [],
      "execution_count": null
    },
    {
      "id": "6680888c-fb78-4be8-973f-d3e46354b1b2",
      "cell_type": "code",
      "source": "# Exercise 14: Complex Number Operations (Very Hard)\n# Write a function that performs operations on complex numbers\ndef complex_number_operations():\n    print(\"Enter first complex number:\")\n    real1 = float(input(\"Real part: \"))\n    imag1 = float(input(\"Imaginary part: \"))\n    c1 = complex(real1, imag1)\n    \n    print(\"Enter second complex number:\")\n    real2 = float(input(\"Real part: \"))\n    imag2 = float(input(\"Imaginary part: \"))\n    c2 = complex(real2, imag2)\n    \n    operation = input(\"Enter operation (+, -, *, /): \")\n    \n    if operation == '+':\n        result = c1 + c2\n    elif operation == '-':\n        result = c1 - c2\n    elif operation == '*':\n        result = c1 * c2\n    elif operation == '/':\n        if c2 != 0:\n            result = c1 / c2\n        else:\n            return \"Error: Division by zero!\"\n    else:\n        return \"Invalid operation!\"\n    \n    return f\"Result: {result}\"\n\nprint(complex_number_operations())",
      "metadata": {
        "trusted": true
      },
      "outputs": [],
      "execution_count": null
    },
    {
      "id": "257f0f0c-88f9-4dc0-9c7b-518e941c2b6c",
      "cell_type": "code",
      "source": "# Exercise 15: Advanced Traffic Violation System (Extremely Hard)\n# Create a comprehensive traffic violation system with multiple factors\ndef traffic_violation_system():\n    speed = float(input(\"Enter vehicle speed (km/h): \"))\n    speed_limit = float(input(\"Enter speed limit (km/h): \"))\n    area_type = input(\"Enter area type (residential/school/highway): \").lower()\n    weather = input(\"Enter weather condition (clear/rain/fog): \").lower()\n    license_type = input(\"Enter license type (learner/provisional/full): \").lower()\n    previous_violations = int(input(\"Enter number of previous violations: \"))\n    \n    # Calculate speed difference\n    speed_diff = speed - speed_limit\n    \n    # Base fine based on speed difference\n    if speed_diff <= 0:\n        return \"No violation detected.\"\n    elif speed_diff <= 10:\n        base_fine = 50\n        points = 1\n    elif speed_diff <= 20:\n        base_fine = 100\n        points = 3\n    elif speed_diff <= 30:\n        base_fine = 200\n        points = 4\n    else:\n        base_fine = 500\n        points = 6\n    \n    # Area multiplier\n    if area_type == 'residential':\n        area_multiplier = 1.5\n    elif area_type == 'school':\n        area_multiplier = 2.0\n    else:\n        area_multiplier = 1.0\n    \n    # Weather multiplier\n    if weather != 'clear':\n        weather_multiplier = 1.2\n    else:\n        weather_multiplier = 1.0\n    \n    # License multiplier\n    if license_type == 'learner':\n        license_multiplier = 1.5\n    elif license_type == 'provisional':\n        license_multiplier = 1.2\n    else:\n        license_multiplier = 1.0\n    \n    # Previous violations multiplier\n    if previous_violations > 0:\n        violation_multiplier = 1 + (previous_violations * 0.1)\n    else:\n        violation_multiplier = 1.0\n    \n    # Calculate total fine\n    total_fine = base_fine * area_multiplier * weather_multiplier * license_multiplier * violation_multiplier\n    \n    # Check for license suspension\n    total_points = points + previous_violations\n    if total_points >= 12:\n        suspension = \"Your license will be suspended.\"\n    else:\n        suspension = f\"You have {total_points} points on your license.\"\n    \n    return f\"Violation detected! Fine: £{total_fine:.2f}. Points added: {points}. {suspension}\"\n\nprint(traffic_violation_system())",
      "metadata": {
        "trusted": true
      },
      "outputs": [],
      "execution_count": null
    }
  ]
}